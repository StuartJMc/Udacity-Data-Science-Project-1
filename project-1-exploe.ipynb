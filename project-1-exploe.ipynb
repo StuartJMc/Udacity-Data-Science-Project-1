{
 "cells": [
  {
   "cell_type": "code",
   "execution_count": 1,
   "id": "3a73b938",
   "metadata": {},
   "outputs": [],
   "source": [
    "#imports\n",
    "import pandas as pd\n",
    "import numpy as np\n",
    "import matplotlib.pyplot as plt\n",
    "\n"
   ]
  },
  {
   "cell_type": "code",
   "execution_count": 2,
   "id": "ee1eb1fd-562c-43c7-a6f6-aaedae2da1e0",
   "metadata": {},
   "outputs": [],
   "source": [
    "#load airbnb datasets\n",
    "calendar_df=pd.read_csv('data/airbnb/calendar.csv', parse_dates=['date'])\n",
    "listings_df=pd.read_csv('data/airbnb/listings.csv')\n",
    "reviews_df=pd.read_csv('data/airbnb/reviews.csv', parse_dates=['date'])"
   ]
  },
  {
   "cell_type": "markdown",
   "id": "57038cee-0f99-4372-a6be-6488db207989",
   "metadata": {},
   "source": [
    "# Business Understanding\n",
    "\n",
    "Airbnb is an online platform for renting properties"
   ]
  },
  {
   "cell_type": "markdown",
   "id": "4ecd66f1-b6be-471d-9654-a17968529a8b",
   "metadata": {},
   "source": [
    "# Questions\n",
    "\n",
    "1. Does increased availability reflect in worse reviews?\n",
    "2. Does length of listing description have an affect on property ratings?\n",
    "3. Does listing price vary seasonally?\n",
    "4. How does the size of a property relate to price?\n",
    "5. Is price depenednt on location?"
   ]
  },
  {
   "cell_type": "markdown",
   "id": "ba482f72-75e3-4ef7-94c9-baff7a6651ef",
   "metadata": {},
   "source": [
    "# 2 Data Understanding"
   ]
  },
  {
   "cell_type": "markdown",
   "id": "7a2423f0-28b7-4ac7-9365-998a124680a4",
   "metadata": {},
   "source": [
    "## 2.1 Assess Calendar"
   ]
  },
  {
   "cell_type": "code",
   "execution_count": 3,
   "id": "5f36c8ff-db20-4e18-aaec-94be3a9c957b",
   "metadata": {},
   "outputs": [
    {
     "name": "stdout",
     "output_type": "stream",
     "text": [
      "<class 'pandas.core.frame.DataFrame'>\n",
      "RangeIndex: 1393570 entries, 0 to 1393569\n",
      "Data columns (total 4 columns):\n",
      " #   Column      Non-Null Count    Dtype         \n",
      "---  ------      --------------    -----         \n",
      " 0   listing_id  1393570 non-null  int64         \n",
      " 1   date        1393570 non-null  datetime64[ns]\n",
      " 2   available   1393570 non-null  object        \n",
      " 3   price       934542 non-null   object        \n",
      "dtypes: datetime64[ns](1), int64(1), object(2)\n",
      "memory usage: 42.5+ MB\n"
     ]
    }
   ],
   "source": [
    "calendar_df.info()"
   ]
  },
  {
   "cell_type": "markdown",
   "id": "ae2a5e0f-009c-4ffd-876e-366238c0d8ca",
   "metadata": {},
   "source": [
    "- price is an object"
   ]
  },
  {
   "cell_type": "code",
   "execution_count": 4,
   "id": "4e3bc75a-ccc7-4db5-96da-4c0d34522a33",
   "metadata": {},
   "outputs": [
    {
     "data": {
      "text/html": [
       "<div>\n",
       "<style scoped>\n",
       "    .dataframe tbody tr th:only-of-type {\n",
       "        vertical-align: middle;\n",
       "    }\n",
       "\n",
       "    .dataframe tbody tr th {\n",
       "        vertical-align: top;\n",
       "    }\n",
       "\n",
       "    .dataframe thead th {\n",
       "        text-align: right;\n",
       "    }\n",
       "</style>\n",
       "<table border=\"1\" class=\"dataframe\">\n",
       "  <thead>\n",
       "    <tr style=\"text-align: right;\">\n",
       "      <th></th>\n",
       "      <th>listing_id</th>\n",
       "      <th>date</th>\n",
       "      <th>available</th>\n",
       "      <th>price</th>\n",
       "    </tr>\n",
       "  </thead>\n",
       "  <tbody>\n",
       "    <tr>\n",
       "      <th>0</th>\n",
       "      <td>241032</td>\n",
       "      <td>2016-01-04</td>\n",
       "      <td>t</td>\n",
       "      <td>$85.00</td>\n",
       "    </tr>\n",
       "    <tr>\n",
       "      <th>1</th>\n",
       "      <td>241032</td>\n",
       "      <td>2016-01-05</td>\n",
       "      <td>t</td>\n",
       "      <td>$85.00</td>\n",
       "    </tr>\n",
       "    <tr>\n",
       "      <th>2</th>\n",
       "      <td>241032</td>\n",
       "      <td>2016-01-06</td>\n",
       "      <td>f</td>\n",
       "      <td>NaN</td>\n",
       "    </tr>\n",
       "    <tr>\n",
       "      <th>3</th>\n",
       "      <td>241032</td>\n",
       "      <td>2016-01-07</td>\n",
       "      <td>f</td>\n",
       "      <td>NaN</td>\n",
       "    </tr>\n",
       "    <tr>\n",
       "      <th>4</th>\n",
       "      <td>241032</td>\n",
       "      <td>2016-01-08</td>\n",
       "      <td>f</td>\n",
       "      <td>NaN</td>\n",
       "    </tr>\n",
       "  </tbody>\n",
       "</table>\n",
       "</div>"
      ],
      "text/plain": [
       "   listing_id       date available   price\n",
       "0      241032 2016-01-04         t  $85.00\n",
       "1      241032 2016-01-05         t  $85.00\n",
       "2      241032 2016-01-06         f     NaN\n",
       "3      241032 2016-01-07         f     NaN\n",
       "4      241032 2016-01-08         f     NaN"
      ]
     },
     "execution_count": 4,
     "metadata": {},
     "output_type": "execute_result"
    }
   ],
   "source": [
    "calendar_df.head()"
   ]
  },
  {
   "cell_type": "markdown",
   "id": "451ae444-04eb-4598-8e67-4966cc258f32",
   "metadata": {},
   "source": [
    "- price contains currency indicators"
   ]
  },
  {
   "cell_type": "code",
   "execution_count": 5,
   "id": "0448f0a0-a53f-4ecf-a221-75e85d824e92",
   "metadata": {},
   "outputs": [
    {
     "data": {
      "text/plain": [
       "listing_id    0.00000\n",
       "date          0.00000\n",
       "available     0.00000\n",
       "price         0.32939\n",
       "dtype: float64"
      ]
     },
     "execution_count": 5,
     "metadata": {},
     "output_type": "execute_result"
    }
   ],
   "source": [
    "#price seems to have a few missing values, how many?\n",
    "calendar_df.isna().sum()/(calendar_df.shape[0])"
   ]
  },
  {
   "cell_type": "markdown",
   "id": "6986e6ae-bb91-4214-a056-a09160a43536",
   "metadata": {},
   "source": [
    "- price is missing on approx. 33% of rows\n",
    "\n",
    "How is this split among available and unvaliable"
   ]
  },
  {
   "cell_type": "code",
   "execution_count": 6,
   "id": "8236077d-7253-4939-ae96-99036f104183",
   "metadata": {},
   "outputs": [
    {
     "data": {
      "text/plain": [
       "listing_id    0.0\n",
       "date          0.0\n",
       "available     0.0\n",
       "price         0.0\n",
       "dtype: float64"
      ]
     },
     "execution_count": 6,
     "metadata": {},
     "output_type": "execute_result"
    }
   ],
   "source": [
    "calendar_df.query(\"available=='t'\").isna().sum()/(calendar_df.query(\"available=='t'\").shape[0])"
   ]
  },
  {
   "cell_type": "code",
   "execution_count": 7,
   "id": "e0bd2c38-48cd-4aec-863d-5241bfc9b009",
   "metadata": {},
   "outputs": [
    {
     "data": {
      "text/plain": [
       "listing_id    0.0\n",
       "date          0.0\n",
       "available     0.0\n",
       "price         1.0\n",
       "dtype: float64"
      ]
     },
     "execution_count": 7,
     "metadata": {},
     "output_type": "execute_result"
    }
   ],
   "source": [
    "calendar_df.query(\"available=='f'\").isna().sum()/(calendar_df.query(\"available=='f'\").shape[0])"
   ]
  },
  {
   "cell_type": "markdown",
   "id": "b6582f3b-0307-49f6-bfa6-3443cbce2084",
   "metadata": {},
   "source": [
    "- all null prices are for unavailable listings"
   ]
  },
  {
   "cell_type": "markdown",
   "id": "e4fd3da2-48ea-4707-a0cd-7add4b08c131",
   "metadata": {},
   "source": [
    "**notes**:\n",
    "- price is an object\n",
    "- price contains currency indicators\n",
    "- price is missing on approx. 33% of rows\n",
    "- all null prices are for unavailable listings"
   ]
  },
  {
   "cell_type": "markdown",
   "id": "1ea8c8d9-a24e-45c9-bff6-e8016526387a",
   "metadata": {},
   "source": [
    "## 3.2 Listings"
   ]
  },
  {
   "cell_type": "markdown",
   "id": "beedc208-5947-46ab-b7bc-a25dd0f0ccbb",
   "metadata": {},
   "source": [
    "### Assess"
   ]
  },
  {
   "cell_type": "code",
   "execution_count": 8,
   "id": "722c303f-8214-4c44-8cce-a9a419150bfc",
   "metadata": {},
   "outputs": [
    {
     "data": {
      "text/html": [
       "<div>\n",
       "<style scoped>\n",
       "    .dataframe tbody tr th:only-of-type {\n",
       "        vertical-align: middle;\n",
       "    }\n",
       "\n",
       "    .dataframe tbody tr th {\n",
       "        vertical-align: top;\n",
       "    }\n",
       "\n",
       "    .dataframe thead th {\n",
       "        text-align: right;\n",
       "    }\n",
       "</style>\n",
       "<table border=\"1\" class=\"dataframe\">\n",
       "  <thead>\n",
       "    <tr style=\"text-align: right;\">\n",
       "      <th></th>\n",
       "      <th>id</th>\n",
       "      <th>listing_url</th>\n",
       "      <th>scrape_id</th>\n",
       "      <th>last_scraped</th>\n",
       "      <th>name</th>\n",
       "      <th>summary</th>\n",
       "      <th>space</th>\n",
       "      <th>description</th>\n",
       "      <th>experiences_offered</th>\n",
       "      <th>neighborhood_overview</th>\n",
       "      <th>...</th>\n",
       "      <th>review_scores_value</th>\n",
       "      <th>requires_license</th>\n",
       "      <th>license</th>\n",
       "      <th>jurisdiction_names</th>\n",
       "      <th>instant_bookable</th>\n",
       "      <th>cancellation_policy</th>\n",
       "      <th>require_guest_profile_picture</th>\n",
       "      <th>require_guest_phone_verification</th>\n",
       "      <th>calculated_host_listings_count</th>\n",
       "      <th>reviews_per_month</th>\n",
       "    </tr>\n",
       "  </thead>\n",
       "  <tbody>\n",
       "    <tr>\n",
       "      <th>0</th>\n",
       "      <td>241032</td>\n",
       "      <td>https://www.airbnb.com/rooms/241032</td>\n",
       "      <td>20160104002432</td>\n",
       "      <td>2016-01-04</td>\n",
       "      <td>Stylish Queen Anne Apartment</td>\n",
       "      <td>NaN</td>\n",
       "      <td>Make your self at home in this charming one-be...</td>\n",
       "      <td>Make your self at home in this charming one-be...</td>\n",
       "      <td>none</td>\n",
       "      <td>NaN</td>\n",
       "      <td>...</td>\n",
       "      <td>10.0</td>\n",
       "      <td>f</td>\n",
       "      <td>NaN</td>\n",
       "      <td>WASHINGTON</td>\n",
       "      <td>f</td>\n",
       "      <td>moderate</td>\n",
       "      <td>f</td>\n",
       "      <td>f</td>\n",
       "      <td>2</td>\n",
       "      <td>4.07</td>\n",
       "    </tr>\n",
       "    <tr>\n",
       "      <th>1</th>\n",
       "      <td>953595</td>\n",
       "      <td>https://www.airbnb.com/rooms/953595</td>\n",
       "      <td>20160104002432</td>\n",
       "      <td>2016-01-04</td>\n",
       "      <td>Bright &amp; Airy Queen Anne Apartment</td>\n",
       "      <td>Chemically sensitive? We've removed the irrita...</td>\n",
       "      <td>Beautiful, hypoallergenic apartment in an extr...</td>\n",
       "      <td>Chemically sensitive? We've removed the irrita...</td>\n",
       "      <td>none</td>\n",
       "      <td>Queen Anne is a wonderful, truly functional vi...</td>\n",
       "      <td>...</td>\n",
       "      <td>10.0</td>\n",
       "      <td>f</td>\n",
       "      <td>NaN</td>\n",
       "      <td>WASHINGTON</td>\n",
       "      <td>f</td>\n",
       "      <td>strict</td>\n",
       "      <td>t</td>\n",
       "      <td>t</td>\n",
       "      <td>6</td>\n",
       "      <td>1.48</td>\n",
       "    </tr>\n",
       "    <tr>\n",
       "      <th>2</th>\n",
       "      <td>3308979</td>\n",
       "      <td>https://www.airbnb.com/rooms/3308979</td>\n",
       "      <td>20160104002432</td>\n",
       "      <td>2016-01-04</td>\n",
       "      <td>New Modern House-Amazing water view</td>\n",
       "      <td>New modern house built in 2013.  Spectacular s...</td>\n",
       "      <td>Our house is modern, light and fresh with a wa...</td>\n",
       "      <td>New modern house built in 2013.  Spectacular s...</td>\n",
       "      <td>none</td>\n",
       "      <td>Upper Queen Anne is a charming neighborhood fu...</td>\n",
       "      <td>...</td>\n",
       "      <td>10.0</td>\n",
       "      <td>f</td>\n",
       "      <td>NaN</td>\n",
       "      <td>WASHINGTON</td>\n",
       "      <td>f</td>\n",
       "      <td>strict</td>\n",
       "      <td>f</td>\n",
       "      <td>f</td>\n",
       "      <td>2</td>\n",
       "      <td>1.15</td>\n",
       "    </tr>\n",
       "    <tr>\n",
       "      <th>3</th>\n",
       "      <td>7421966</td>\n",
       "      <td>https://www.airbnb.com/rooms/7421966</td>\n",
       "      <td>20160104002432</td>\n",
       "      <td>2016-01-04</td>\n",
       "      <td>Queen Anne Chateau</td>\n",
       "      <td>A charming apartment that sits atop Queen Anne...</td>\n",
       "      <td>NaN</td>\n",
       "      <td>A charming apartment that sits atop Queen Anne...</td>\n",
       "      <td>none</td>\n",
       "      <td>NaN</td>\n",
       "      <td>...</td>\n",
       "      <td>NaN</td>\n",
       "      <td>f</td>\n",
       "      <td>NaN</td>\n",
       "      <td>WASHINGTON</td>\n",
       "      <td>f</td>\n",
       "      <td>flexible</td>\n",
       "      <td>f</td>\n",
       "      <td>f</td>\n",
       "      <td>1</td>\n",
       "      <td>NaN</td>\n",
       "    </tr>\n",
       "    <tr>\n",
       "      <th>4</th>\n",
       "      <td>278830</td>\n",
       "      <td>https://www.airbnb.com/rooms/278830</td>\n",
       "      <td>20160104002432</td>\n",
       "      <td>2016-01-04</td>\n",
       "      <td>Charming craftsman 3 bdm house</td>\n",
       "      <td>Cozy family craftman house in beautiful neighb...</td>\n",
       "      <td>Cozy family craftman house in beautiful neighb...</td>\n",
       "      <td>Cozy family craftman house in beautiful neighb...</td>\n",
       "      <td>none</td>\n",
       "      <td>We are in the beautiful neighborhood of Queen ...</td>\n",
       "      <td>...</td>\n",
       "      <td>9.0</td>\n",
       "      <td>f</td>\n",
       "      <td>NaN</td>\n",
       "      <td>WASHINGTON</td>\n",
       "      <td>f</td>\n",
       "      <td>strict</td>\n",
       "      <td>f</td>\n",
       "      <td>f</td>\n",
       "      <td>1</td>\n",
       "      <td>0.89</td>\n",
       "    </tr>\n",
       "  </tbody>\n",
       "</table>\n",
       "<p>5 rows × 92 columns</p>\n",
       "</div>"
      ],
      "text/plain": [
       "        id                           listing_url       scrape_id last_scraped  \\\n",
       "0   241032   https://www.airbnb.com/rooms/241032  20160104002432   2016-01-04   \n",
       "1   953595   https://www.airbnb.com/rooms/953595  20160104002432   2016-01-04   \n",
       "2  3308979  https://www.airbnb.com/rooms/3308979  20160104002432   2016-01-04   \n",
       "3  7421966  https://www.airbnb.com/rooms/7421966  20160104002432   2016-01-04   \n",
       "4   278830   https://www.airbnb.com/rooms/278830  20160104002432   2016-01-04   \n",
       "\n",
       "                                  name  \\\n",
       "0         Stylish Queen Anne Apartment   \n",
       "1   Bright & Airy Queen Anne Apartment   \n",
       "2  New Modern House-Amazing water view   \n",
       "3                   Queen Anne Chateau   \n",
       "4       Charming craftsman 3 bdm house   \n",
       "\n",
       "                                             summary  \\\n",
       "0                                                NaN   \n",
       "1  Chemically sensitive? We've removed the irrita...   \n",
       "2  New modern house built in 2013.  Spectacular s...   \n",
       "3  A charming apartment that sits atop Queen Anne...   \n",
       "4  Cozy family craftman house in beautiful neighb...   \n",
       "\n",
       "                                               space  \\\n",
       "0  Make your self at home in this charming one-be...   \n",
       "1  Beautiful, hypoallergenic apartment in an extr...   \n",
       "2  Our house is modern, light and fresh with a wa...   \n",
       "3                                                NaN   \n",
       "4  Cozy family craftman house in beautiful neighb...   \n",
       "\n",
       "                                         description experiences_offered  \\\n",
       "0  Make your self at home in this charming one-be...                none   \n",
       "1  Chemically sensitive? We've removed the irrita...                none   \n",
       "2  New modern house built in 2013.  Spectacular s...                none   \n",
       "3  A charming apartment that sits atop Queen Anne...                none   \n",
       "4  Cozy family craftman house in beautiful neighb...                none   \n",
       "\n",
       "                               neighborhood_overview  ... review_scores_value  \\\n",
       "0                                                NaN  ...                10.0   \n",
       "1  Queen Anne is a wonderful, truly functional vi...  ...                10.0   \n",
       "2  Upper Queen Anne is a charming neighborhood fu...  ...                10.0   \n",
       "3                                                NaN  ...                 NaN   \n",
       "4  We are in the beautiful neighborhood of Queen ...  ...                 9.0   \n",
       "\n",
       "  requires_license license jurisdiction_names instant_bookable  \\\n",
       "0                f     NaN         WASHINGTON                f   \n",
       "1                f     NaN         WASHINGTON                f   \n",
       "2                f     NaN         WASHINGTON                f   \n",
       "3                f     NaN         WASHINGTON                f   \n",
       "4                f     NaN         WASHINGTON                f   \n",
       "\n",
       "  cancellation_policy  require_guest_profile_picture  \\\n",
       "0            moderate                              f   \n",
       "1              strict                              t   \n",
       "2              strict                              f   \n",
       "3            flexible                              f   \n",
       "4              strict                              f   \n",
       "\n",
       "  require_guest_phone_verification calculated_host_listings_count  \\\n",
       "0                                f                              2   \n",
       "1                                t                              6   \n",
       "2                                f                              2   \n",
       "3                                f                              1   \n",
       "4                                f                              1   \n",
       "\n",
       "  reviews_per_month  \n",
       "0              4.07  \n",
       "1              1.48  \n",
       "2              1.15  \n",
       "3               NaN  \n",
       "4              0.89  \n",
       "\n",
       "[5 rows x 92 columns]"
      ]
     },
     "execution_count": 8,
     "metadata": {},
     "output_type": "execute_result"
    }
   ],
   "source": [
    "listings_df.head(5)"
   ]
  },
  {
   "cell_type": "code",
   "execution_count": 9,
   "id": "7d57b618-c6a3-42ed-8ecb-0fd0b77cc8c5",
   "metadata": {},
   "outputs": [
    {
     "name": "stdout",
     "output_type": "stream",
     "text": [
      "<class 'pandas.core.frame.DataFrame'>\n",
      "RangeIndex: 3818 entries, 0 to 3817\n",
      "Data columns (total 92 columns):\n",
      " #   Column                            Non-Null Count  Dtype  \n",
      "---  ------                            --------------  -----  \n",
      " 0   id                                3818 non-null   int64  \n",
      " 1   listing_url                       3818 non-null   object \n",
      " 2   scrape_id                         3818 non-null   int64  \n",
      " 3   last_scraped                      3818 non-null   object \n",
      " 4   name                              3818 non-null   object \n",
      " 5   summary                           3641 non-null   object \n",
      " 6   space                             3249 non-null   object \n",
      " 7   description                       3818 non-null   object \n",
      " 8   experiences_offered               3818 non-null   object \n",
      " 9   neighborhood_overview             2786 non-null   object \n",
      " 10  notes                             2212 non-null   object \n",
      " 11  transit                           2884 non-null   object \n",
      " 12  thumbnail_url                     3498 non-null   object \n",
      " 13  medium_url                        3498 non-null   object \n",
      " 14  picture_url                       3818 non-null   object \n",
      " 15  xl_picture_url                    3498 non-null   object \n",
      " 16  host_id                           3818 non-null   int64  \n",
      " 17  host_url                          3818 non-null   object \n",
      " 18  host_name                         3816 non-null   object \n",
      " 19  host_since                        3816 non-null   object \n",
      " 20  host_location                     3810 non-null   object \n",
      " 21  host_about                        2959 non-null   object \n",
      " 22  host_response_time                3295 non-null   object \n",
      " 23  host_response_rate                3295 non-null   object \n",
      " 24  host_acceptance_rate              3045 non-null   object \n",
      " 25  host_is_superhost                 3816 non-null   object \n",
      " 26  host_thumbnail_url                3816 non-null   object \n",
      " 27  host_picture_url                  3816 non-null   object \n",
      " 28  host_neighbourhood                3518 non-null   object \n",
      " 29  host_listings_count               3816 non-null   float64\n",
      " 30  host_total_listings_count         3816 non-null   float64\n",
      " 31  host_verifications                3818 non-null   object \n",
      " 32  host_has_profile_pic              3816 non-null   object \n",
      " 33  host_identity_verified            3816 non-null   object \n",
      " 34  street                            3818 non-null   object \n",
      " 35  neighbourhood                     3402 non-null   object \n",
      " 36  neighbourhood_cleansed            3818 non-null   object \n",
      " 37  neighbourhood_group_cleansed      3818 non-null   object \n",
      " 38  city                              3818 non-null   object \n",
      " 39  state                             3818 non-null   object \n",
      " 40  zipcode                           3811 non-null   object \n",
      " 41  market                            3818 non-null   object \n",
      " 42  smart_location                    3818 non-null   object \n",
      " 43  country_code                      3818 non-null   object \n",
      " 44  country                           3818 non-null   object \n",
      " 45  latitude                          3818 non-null   float64\n",
      " 46  longitude                         3818 non-null   float64\n",
      " 47  is_location_exact                 3818 non-null   object \n",
      " 48  property_type                     3817 non-null   object \n",
      " 49  room_type                         3818 non-null   object \n",
      " 50  accommodates                      3818 non-null   int64  \n",
      " 51  bathrooms                         3802 non-null   float64\n",
      " 52  bedrooms                          3812 non-null   float64\n",
      " 53  beds                              3817 non-null   float64\n",
      " 54  bed_type                          3818 non-null   object \n",
      " 55  amenities                         3818 non-null   object \n",
      " 56  square_feet                       97 non-null     float64\n",
      " 57  price                             3818 non-null   object \n",
      " 58  weekly_price                      2009 non-null   object \n",
      " 59  monthly_price                     1517 non-null   object \n",
      " 60  security_deposit                  1866 non-null   object \n",
      " 61  cleaning_fee                      2788 non-null   object \n",
      " 62  guests_included                   3818 non-null   int64  \n",
      " 63  extra_people                      3818 non-null   object \n",
      " 64  minimum_nights                    3818 non-null   int64  \n",
      " 65  maximum_nights                    3818 non-null   int64  \n",
      " 66  calendar_updated                  3818 non-null   object \n",
      " 67  has_availability                  3818 non-null   object \n",
      " 68  availability_30                   3818 non-null   int64  \n",
      " 69  availability_60                   3818 non-null   int64  \n",
      " 70  availability_90                   3818 non-null   int64  \n",
      " 71  availability_365                  3818 non-null   int64  \n",
      " 72  calendar_last_scraped             3818 non-null   object \n",
      " 73  number_of_reviews                 3818 non-null   int64  \n",
      " 74  first_review                      3191 non-null   object \n",
      " 75  last_review                       3191 non-null   object \n",
      " 76  review_scores_rating              3171 non-null   float64\n",
      " 77  review_scores_accuracy            3160 non-null   float64\n",
      " 78  review_scores_cleanliness         3165 non-null   float64\n",
      " 79  review_scores_checkin             3160 non-null   float64\n",
      " 80  review_scores_communication       3167 non-null   float64\n",
      " 81  review_scores_location            3163 non-null   float64\n",
      " 82  review_scores_value               3162 non-null   float64\n",
      " 83  requires_license                  3818 non-null   object \n",
      " 84  license                           0 non-null      float64\n",
      " 85  jurisdiction_names                3818 non-null   object \n",
      " 86  instant_bookable                  3818 non-null   object \n",
      " 87  cancellation_policy               3818 non-null   object \n",
      " 88  require_guest_profile_picture     3818 non-null   object \n",
      " 89  require_guest_phone_verification  3818 non-null   object \n",
      " 90  calculated_host_listings_count    3818 non-null   int64  \n",
      " 91  reviews_per_month                 3191 non-null   float64\n",
      "dtypes: float64(17), int64(13), object(62)\n",
      "memory usage: 2.7+ MB\n"
     ]
    }
   ],
   "source": [
    "listings_df.info()"
   ]
  },
  {
   "cell_type": "markdown",
   "id": "5ec3a1e7-00ee-4c14-a6ba-35acc8437f64",
   "metadata": {},
   "source": [
    "- from .info() all licenses are null (column could be dropped)\n",
    "- only 97 non null square feet entries\n",
    "- monthly price are not applicaple to all property listings "
   ]
  },
  {
   "cell_type": "code",
   "execution_count": 10,
   "id": "51c2314e-e3ca-468a-adc1-292f5373bfdf",
   "metadata": {},
   "outputs": [],
   "source": [
    "null_columns_listings=list(listings_df.columns[(listings_df.isna().sum()/listings_df.shape[0])>0.5])"
   ]
  },
  {
   "cell_type": "code",
   "execution_count": 11,
   "id": "e312ef0e-a39d-4832-bde0-81399c9c7c70",
   "metadata": {},
   "outputs": [
    {
     "data": {
      "text/plain": [
       "['square_feet', 'monthly_price', 'security_deposit', 'license']"
      ]
     },
     "execution_count": 11,
     "metadata": {},
     "output_type": "execute_result"
    }
   ],
   "source": [
    "null_columns_listings"
   ]
  },
  {
   "cell_type": "code",
   "execution_count": 12,
   "id": "8d6b67dc-0f73-42a7-8d8f-0a7335d45034",
   "metadata": {},
   "outputs": [
    {
     "data": {
      "text/html": [
       "<div>\n",
       "<style scoped>\n",
       "    .dataframe tbody tr th:only-of-type {\n",
       "        vertical-align: middle;\n",
       "    }\n",
       "\n",
       "    .dataframe tbody tr th {\n",
       "        vertical-align: top;\n",
       "    }\n",
       "\n",
       "    .dataframe thead th {\n",
       "        text-align: right;\n",
       "    }\n",
       "</style>\n",
       "<table border=\"1\" class=\"dataframe\">\n",
       "  <thead>\n",
       "    <tr style=\"text-align: right;\">\n",
       "      <th></th>\n",
       "      <th>square_feet</th>\n",
       "      <th>monthly_price</th>\n",
       "      <th>security_deposit</th>\n",
       "      <th>license</th>\n",
       "    </tr>\n",
       "  </thead>\n",
       "  <tbody>\n",
       "    <tr>\n",
       "      <th>0</th>\n",
       "      <td>NaN</td>\n",
       "      <td>NaN</td>\n",
       "      <td>NaN</td>\n",
       "      <td>NaN</td>\n",
       "    </tr>\n",
       "    <tr>\n",
       "      <th>1</th>\n",
       "      <td>NaN</td>\n",
       "      <td>$3,000.00</td>\n",
       "      <td>$100.00</td>\n",
       "      <td>NaN</td>\n",
       "    </tr>\n",
       "    <tr>\n",
       "      <th>2</th>\n",
       "      <td>NaN</td>\n",
       "      <td>NaN</td>\n",
       "      <td>$1,000.00</td>\n",
       "      <td>NaN</td>\n",
       "    </tr>\n",
       "    <tr>\n",
       "      <th>3</th>\n",
       "      <td>NaN</td>\n",
       "      <td>$2,300.00</td>\n",
       "      <td>NaN</td>\n",
       "      <td>NaN</td>\n",
       "    </tr>\n",
       "    <tr>\n",
       "      <th>4</th>\n",
       "      <td>NaN</td>\n",
       "      <td>NaN</td>\n",
       "      <td>$700.00</td>\n",
       "      <td>NaN</td>\n",
       "    </tr>\n",
       "    <tr>\n",
       "      <th>...</th>\n",
       "      <td>...</td>\n",
       "      <td>...</td>\n",
       "      <td>...</td>\n",
       "      <td>...</td>\n",
       "    </tr>\n",
       "    <tr>\n",
       "      <th>3813</th>\n",
       "      <td>NaN</td>\n",
       "      <td>NaN</td>\n",
       "      <td>NaN</td>\n",
       "      <td>NaN</td>\n",
       "    </tr>\n",
       "    <tr>\n",
       "      <th>3814</th>\n",
       "      <td>NaN</td>\n",
       "      <td>NaN</td>\n",
       "      <td>$500.00</td>\n",
       "      <td>NaN</td>\n",
       "    </tr>\n",
       "    <tr>\n",
       "      <th>3815</th>\n",
       "      <td>NaN</td>\n",
       "      <td>NaN</td>\n",
       "      <td>$250.00</td>\n",
       "      <td>NaN</td>\n",
       "    </tr>\n",
       "    <tr>\n",
       "      <th>3816</th>\n",
       "      <td>NaN</td>\n",
       "      <td>NaN</td>\n",
       "      <td>$300.00</td>\n",
       "      <td>NaN</td>\n",
       "    </tr>\n",
       "    <tr>\n",
       "      <th>3817</th>\n",
       "      <td>NaN</td>\n",
       "      <td>NaN</td>\n",
       "      <td>NaN</td>\n",
       "      <td>NaN</td>\n",
       "    </tr>\n",
       "  </tbody>\n",
       "</table>\n",
       "<p>3818 rows × 4 columns</p>\n",
       "</div>"
      ],
      "text/plain": [
       "      square_feet monthly_price security_deposit  license\n",
       "0             NaN           NaN              NaN      NaN\n",
       "1             NaN     $3,000.00          $100.00      NaN\n",
       "2             NaN           NaN        $1,000.00      NaN\n",
       "3             NaN     $2,300.00              NaN      NaN\n",
       "4             NaN           NaN          $700.00      NaN\n",
       "...           ...           ...              ...      ...\n",
       "3813          NaN           NaN              NaN      NaN\n",
       "3814          NaN           NaN          $500.00      NaN\n",
       "3815          NaN           NaN          $250.00      NaN\n",
       "3816          NaN           NaN          $300.00      NaN\n",
       "3817          NaN           NaN              NaN      NaN\n",
       "\n",
       "[3818 rows x 4 columns]"
      ]
     },
     "execution_count": 12,
     "metadata": {},
     "output_type": "execute_result"
    }
   ],
   "source": [
    "listings_df[null_columns_listings]"
   ]
  },
  {
   "cell_type": "markdown",
   "id": "26297e7b-8c7a-40f9-9f16-fd591bce4403",
   "metadata": {},
   "source": [
    "- columns with more than 50% nulls"
   ]
  },
  {
   "cell_type": "code",
   "execution_count": 13,
   "id": "a1588ed6-9827-4c40-8918-454d52a7f1a1",
   "metadata": {},
   "outputs": [
    {
     "data": {
      "text/plain": [
       "1.0"
      ]
     },
     "execution_count": 13,
     "metadata": {},
     "output_type": "execute_result"
    }
   ],
   "source": [
    "#is listings id unique\n",
    "listings_df['id'].nunique()/listings_df.shape[0]"
   ]
  },
  {
   "cell_type": "markdown",
   "id": "532cc7cb-54cf-4bfe-8e85-4b44bc8d5736",
   "metadata": {},
   "source": [
    "yes!"
   ]
  },
  {
   "cell_type": "code",
   "execution_count": 14,
   "id": "49636fa6-cb41-41db-8229-f7f60fefb06d",
   "metadata": {},
   "outputs": [],
   "source": [
    "#find all review columns from listings\n",
    "review_cols=[x for x in listings_df.columns if 'review_scores' in x]"
   ]
  },
  {
   "cell_type": "code",
   "execution_count": 15,
   "id": "b92e4ae4-1af2-4be5-a694-10b316e2fc3a",
   "metadata": {},
   "outputs": [],
   "source": [
    "scores_df=listings_df[['id']+review_cols]"
   ]
  },
  {
   "cell_type": "code",
   "execution_count": 16,
   "id": "43a222c9-4142-4aa1-93d4-d810931e649f",
   "metadata": {},
   "outputs": [],
   "source": [
    "#find partial null rows\n",
    "partital_nuls=scores_df[review_cols].isna().any(axis=1) & ~scores_df[review_cols].isna().all(axis=1)"
   ]
  },
  {
   "cell_type": "code",
   "execution_count": 17,
   "id": "83eb40f7-a659-4dde-b20a-da3cd0d68145",
   "metadata": {},
   "outputs": [
    {
     "data": {
      "text/html": [
       "<div>\n",
       "<style scoped>\n",
       "    .dataframe tbody tr th:only-of-type {\n",
       "        vertical-align: middle;\n",
       "    }\n",
       "\n",
       "    .dataframe tbody tr th {\n",
       "        vertical-align: top;\n",
       "    }\n",
       "\n",
       "    .dataframe thead th {\n",
       "        text-align: right;\n",
       "    }\n",
       "</style>\n",
       "<table border=\"1\" class=\"dataframe\">\n",
       "  <thead>\n",
       "    <tr style=\"text-align: right;\">\n",
       "      <th></th>\n",
       "      <th>id</th>\n",
       "      <th>review_scores_rating</th>\n",
       "      <th>review_scores_accuracy</th>\n",
       "      <th>review_scores_cleanliness</th>\n",
       "      <th>review_scores_checkin</th>\n",
       "      <th>review_scores_communication</th>\n",
       "      <th>review_scores_location</th>\n",
       "      <th>review_scores_value</th>\n",
       "    </tr>\n",
       "  </thead>\n",
       "  <tbody>\n",
       "    <tr>\n",
       "      <th>212</th>\n",
       "      <td>781474</td>\n",
       "      <td>90.0</td>\n",
       "      <td>NaN</td>\n",
       "      <td>10.0</td>\n",
       "      <td>10.0</td>\n",
       "      <td>10.0</td>\n",
       "      <td>8.0</td>\n",
       "      <td>10.0</td>\n",
       "    </tr>\n",
       "    <tr>\n",
       "      <th>240</th>\n",
       "      <td>9215782</td>\n",
       "      <td>100.0</td>\n",
       "      <td>NaN</td>\n",
       "      <td>10.0</td>\n",
       "      <td>NaN</td>\n",
       "      <td>10.0</td>\n",
       "      <td>NaN</td>\n",
       "      <td>NaN</td>\n",
       "    </tr>\n",
       "    <tr>\n",
       "      <th>653</th>\n",
       "      <td>8174389</td>\n",
       "      <td>100.0</td>\n",
       "      <td>10.0</td>\n",
       "      <td>10.0</td>\n",
       "      <td>10.0</td>\n",
       "      <td>10.0</td>\n",
       "      <td>10.0</td>\n",
       "      <td>NaN</td>\n",
       "    </tr>\n",
       "    <tr>\n",
       "      <th>738</th>\n",
       "      <td>6796336</td>\n",
       "      <td>80.0</td>\n",
       "      <td>NaN</td>\n",
       "      <td>NaN</td>\n",
       "      <td>NaN</td>\n",
       "      <td>NaN</td>\n",
       "      <td>NaN</td>\n",
       "      <td>NaN</td>\n",
       "    </tr>\n",
       "    <tr>\n",
       "      <th>1609</th>\n",
       "      <td>8505421</td>\n",
       "      <td>80.0</td>\n",
       "      <td>NaN</td>\n",
       "      <td>NaN</td>\n",
       "      <td>NaN</td>\n",
       "      <td>10.0</td>\n",
       "      <td>10.0</td>\n",
       "      <td>8.0</td>\n",
       "    </tr>\n",
       "    <tr>\n",
       "      <th>1838</th>\n",
       "      <td>9394485</td>\n",
       "      <td>100.0</td>\n",
       "      <td>NaN</td>\n",
       "      <td>10.0</td>\n",
       "      <td>NaN</td>\n",
       "      <td>10.0</td>\n",
       "      <td>NaN</td>\n",
       "      <td>NaN</td>\n",
       "    </tr>\n",
       "    <tr>\n",
       "      <th>1981</th>\n",
       "      <td>5278993</td>\n",
       "      <td>100.0</td>\n",
       "      <td>NaN</td>\n",
       "      <td>NaN</td>\n",
       "      <td>NaN</td>\n",
       "      <td>NaN</td>\n",
       "      <td>NaN</td>\n",
       "      <td>NaN</td>\n",
       "    </tr>\n",
       "    <tr>\n",
       "      <th>2000</th>\n",
       "      <td>9908591</td>\n",
       "      <td>100.0</td>\n",
       "      <td>NaN</td>\n",
       "      <td>NaN</td>\n",
       "      <td>NaN</td>\n",
       "      <td>NaN</td>\n",
       "      <td>NaN</td>\n",
       "      <td>NaN</td>\n",
       "    </tr>\n",
       "    <tr>\n",
       "      <th>2442</th>\n",
       "      <td>4181226</td>\n",
       "      <td>100.0</td>\n",
       "      <td>8.0</td>\n",
       "      <td>10.0</td>\n",
       "      <td>NaN</td>\n",
       "      <td>10.0</td>\n",
       "      <td>10.0</td>\n",
       "      <td>10.0</td>\n",
       "    </tr>\n",
       "    <tr>\n",
       "      <th>2483</th>\n",
       "      <td>9632775</td>\n",
       "      <td>80.0</td>\n",
       "      <td>NaN</td>\n",
       "      <td>8.0</td>\n",
       "      <td>NaN</td>\n",
       "      <td>4.0</td>\n",
       "      <td>NaN</td>\n",
       "      <td>NaN</td>\n",
       "    </tr>\n",
       "    <tr>\n",
       "      <th>3422</th>\n",
       "      <td>7698721</td>\n",
       "      <td>100.0</td>\n",
       "      <td>NaN</td>\n",
       "      <td>NaN</td>\n",
       "      <td>NaN</td>\n",
       "      <td>NaN</td>\n",
       "      <td>NaN</td>\n",
       "      <td>NaN</td>\n",
       "    </tr>\n",
       "    <tr>\n",
       "      <th>3580</th>\n",
       "      <td>10248139</td>\n",
       "      <td>100.0</td>\n",
       "      <td>NaN</td>\n",
       "      <td>10.0</td>\n",
       "      <td>NaN</td>\n",
       "      <td>10.0</td>\n",
       "      <td>NaN</td>\n",
       "      <td>NaN</td>\n",
       "    </tr>\n",
       "    <tr>\n",
       "      <th>3585</th>\n",
       "      <td>8613792</td>\n",
       "      <td>100.0</td>\n",
       "      <td>NaN</td>\n",
       "      <td>NaN</td>\n",
       "      <td>NaN</td>\n",
       "      <td>10.0</td>\n",
       "      <td>10.0</td>\n",
       "      <td>10.0</td>\n",
       "    </tr>\n",
       "  </tbody>\n",
       "</table>\n",
       "</div>"
      ],
      "text/plain": [
       "            id  review_scores_rating  review_scores_accuracy  \\\n",
       "212     781474                  90.0                     NaN   \n",
       "240    9215782                 100.0                     NaN   \n",
       "653    8174389                 100.0                    10.0   \n",
       "738    6796336                  80.0                     NaN   \n",
       "1609   8505421                  80.0                     NaN   \n",
       "1838   9394485                 100.0                     NaN   \n",
       "1981   5278993                 100.0                     NaN   \n",
       "2000   9908591                 100.0                     NaN   \n",
       "2442   4181226                 100.0                     8.0   \n",
       "2483   9632775                  80.0                     NaN   \n",
       "3422   7698721                 100.0                     NaN   \n",
       "3580  10248139                 100.0                     NaN   \n",
       "3585   8613792                 100.0                     NaN   \n",
       "\n",
       "      review_scores_cleanliness  review_scores_checkin  \\\n",
       "212                        10.0                   10.0   \n",
       "240                        10.0                    NaN   \n",
       "653                        10.0                   10.0   \n",
       "738                         NaN                    NaN   \n",
       "1609                        NaN                    NaN   \n",
       "1838                       10.0                    NaN   \n",
       "1981                        NaN                    NaN   \n",
       "2000                        NaN                    NaN   \n",
       "2442                       10.0                    NaN   \n",
       "2483                        8.0                    NaN   \n",
       "3422                        NaN                    NaN   \n",
       "3580                       10.0                    NaN   \n",
       "3585                        NaN                    NaN   \n",
       "\n",
       "      review_scores_communication  review_scores_location  review_scores_value  \n",
       "212                          10.0                     8.0                 10.0  \n",
       "240                          10.0                     NaN                  NaN  \n",
       "653                          10.0                    10.0                  NaN  \n",
       "738                           NaN                     NaN                  NaN  \n",
       "1609                         10.0                    10.0                  8.0  \n",
       "1838                         10.0                     NaN                  NaN  \n",
       "1981                          NaN                     NaN                  NaN  \n",
       "2000                          NaN                     NaN                  NaN  \n",
       "2442                         10.0                    10.0                 10.0  \n",
       "2483                          4.0                     NaN                  NaN  \n",
       "3422                          NaN                     NaN                  NaN  \n",
       "3580                         10.0                     NaN                  NaN  \n",
       "3585                         10.0                    10.0                 10.0  "
      ]
     },
     "execution_count": 17,
     "metadata": {},
     "output_type": "execute_result"
    }
   ],
   "source": [
    "scores_df[partital_nuls]"
   ]
  },
  {
   "cell_type": "markdown",
   "id": "b26ce164-9eba-4f03-ad0b-e615e9ff95da",
   "metadata": {},
   "source": [
    "- Apart from all null scores, all rows have at least a review scores\n",
    "- Where this accors, impute the missing values with the review_scores_rating"
   ]
  },
  {
   "cell_type": "code",
   "execution_count": 18,
   "id": "af376e50-284f-4a6e-bc85-9752ebe77ad2",
   "metadata": {},
   "outputs": [
    {
     "data": {
      "text/plain": [
       "['review_scores_rating',\n",
       " 'review_scores_accuracy',\n",
       " 'review_scores_cleanliness',\n",
       " 'review_scores_checkin',\n",
       " 'review_scores_communication',\n",
       " 'review_scores_location',\n",
       " 'review_scores_value']"
      ]
     },
     "execution_count": 18,
     "metadata": {},
     "output_type": "execute_result"
    }
   ],
   "source": [
    "#find all review columns from listings\n",
    "review_cols=[x for x in listings_df.columns if 'review_scores' in x]\n",
    "review_cols"
   ]
  },
  {
   "cell_type": "code",
   "execution_count": 19,
   "id": "31e2cdd1-5ab6-47f4-b597-ee6f7416a34a",
   "metadata": {},
   "outputs": [
    {
     "name": "stdout",
     "output_type": "stream",
     "text": [
      "<class 'pandas.core.frame.DataFrame'>\n",
      "RangeIndex: 3818 entries, 0 to 3817\n",
      "Data columns (total 7 columns):\n",
      " #   Column                       Non-Null Count  Dtype  \n",
      "---  ------                       --------------  -----  \n",
      " 0   review_scores_rating         3171 non-null   float64\n",
      " 1   review_scores_accuracy       3160 non-null   float64\n",
      " 2   review_scores_cleanliness    3165 non-null   float64\n",
      " 3   review_scores_checkin        3160 non-null   float64\n",
      " 4   review_scores_communication  3167 non-null   float64\n",
      " 5   review_scores_location       3163 non-null   float64\n",
      " 6   review_scores_value          3162 non-null   float64\n",
      "dtypes: float64(7)\n",
      "memory usage: 208.9 KB\n"
     ]
    }
   ],
   "source": [
    "listings_df[review_cols].info()"
   ]
  },
  {
   "cell_type": "code",
   "execution_count": 20,
   "id": "2789d1bb-c85f-4f78-9980-b1395a7d4352",
   "metadata": {},
   "outputs": [
    {
     "data": {
      "text/plain": [
       "False    3171\n",
       "True      647\n",
       "dtype: int64"
      ]
     },
     "execution_count": 20,
     "metadata": {},
     "output_type": "execute_result"
    }
   ],
   "source": [
    "#find rows where all review scores are null\n",
    "all_nulls=listings_df[review_cols].isna().all(axis=1)\n",
    "all_nulls.value_counts()"
   ]
  },
  {
   "cell_type": "markdown",
   "id": "9be80a5f-c9a4-46e1-88d2-f596998f89ba",
   "metadata": {},
   "source": [
    "- 647 rows with no reviews data"
   ]
  },
  {
   "cell_type": "code",
   "execution_count": 21,
   "id": "7fcf3bed-fe6d-4808-907d-6d4fab0a0461",
   "metadata": {},
   "outputs": [
    {
     "data": {
      "text/html": [
       "<div>\n",
       "<style scoped>\n",
       "    .dataframe tbody tr th:only-of-type {\n",
       "        vertical-align: middle;\n",
       "    }\n",
       "\n",
       "    .dataframe tbody tr th {\n",
       "        vertical-align: top;\n",
       "    }\n",
       "\n",
       "    .dataframe thead th {\n",
       "        text-align: right;\n",
       "    }\n",
       "</style>\n",
       "<table border=\"1\" class=\"dataframe\">\n",
       "  <thead>\n",
       "    <tr style=\"text-align: right;\">\n",
       "      <th></th>\n",
       "      <th>review_scores_rating</th>\n",
       "      <th>review_scores_accuracy</th>\n",
       "      <th>review_scores_cleanliness</th>\n",
       "      <th>review_scores_checkin</th>\n",
       "      <th>review_scores_communication</th>\n",
       "      <th>review_scores_location</th>\n",
       "      <th>review_scores_value</th>\n",
       "    </tr>\n",
       "  </thead>\n",
       "  <tbody>\n",
       "    <tr>\n",
       "      <th>212</th>\n",
       "      <td>90.0</td>\n",
       "      <td>NaN</td>\n",
       "      <td>10.0</td>\n",
       "      <td>10.0</td>\n",
       "      <td>10.0</td>\n",
       "      <td>8.0</td>\n",
       "      <td>10.0</td>\n",
       "    </tr>\n",
       "    <tr>\n",
       "      <th>240</th>\n",
       "      <td>100.0</td>\n",
       "      <td>NaN</td>\n",
       "      <td>10.0</td>\n",
       "      <td>NaN</td>\n",
       "      <td>10.0</td>\n",
       "      <td>NaN</td>\n",
       "      <td>NaN</td>\n",
       "    </tr>\n",
       "    <tr>\n",
       "      <th>653</th>\n",
       "      <td>100.0</td>\n",
       "      <td>10.0</td>\n",
       "      <td>10.0</td>\n",
       "      <td>10.0</td>\n",
       "      <td>10.0</td>\n",
       "      <td>10.0</td>\n",
       "      <td>NaN</td>\n",
       "    </tr>\n",
       "    <tr>\n",
       "      <th>738</th>\n",
       "      <td>80.0</td>\n",
       "      <td>NaN</td>\n",
       "      <td>NaN</td>\n",
       "      <td>NaN</td>\n",
       "      <td>NaN</td>\n",
       "      <td>NaN</td>\n",
       "      <td>NaN</td>\n",
       "    </tr>\n",
       "    <tr>\n",
       "      <th>1609</th>\n",
       "      <td>80.0</td>\n",
       "      <td>NaN</td>\n",
       "      <td>NaN</td>\n",
       "      <td>NaN</td>\n",
       "      <td>10.0</td>\n",
       "      <td>10.0</td>\n",
       "      <td>8.0</td>\n",
       "    </tr>\n",
       "    <tr>\n",
       "      <th>1838</th>\n",
       "      <td>100.0</td>\n",
       "      <td>NaN</td>\n",
       "      <td>10.0</td>\n",
       "      <td>NaN</td>\n",
       "      <td>10.0</td>\n",
       "      <td>NaN</td>\n",
       "      <td>NaN</td>\n",
       "    </tr>\n",
       "    <tr>\n",
       "      <th>1981</th>\n",
       "      <td>100.0</td>\n",
       "      <td>NaN</td>\n",
       "      <td>NaN</td>\n",
       "      <td>NaN</td>\n",
       "      <td>NaN</td>\n",
       "      <td>NaN</td>\n",
       "      <td>NaN</td>\n",
       "    </tr>\n",
       "    <tr>\n",
       "      <th>2000</th>\n",
       "      <td>100.0</td>\n",
       "      <td>NaN</td>\n",
       "      <td>NaN</td>\n",
       "      <td>NaN</td>\n",
       "      <td>NaN</td>\n",
       "      <td>NaN</td>\n",
       "      <td>NaN</td>\n",
       "    </tr>\n",
       "    <tr>\n",
       "      <th>2442</th>\n",
       "      <td>100.0</td>\n",
       "      <td>8.0</td>\n",
       "      <td>10.0</td>\n",
       "      <td>NaN</td>\n",
       "      <td>10.0</td>\n",
       "      <td>10.0</td>\n",
       "      <td>10.0</td>\n",
       "    </tr>\n",
       "    <tr>\n",
       "      <th>2483</th>\n",
       "      <td>80.0</td>\n",
       "      <td>NaN</td>\n",
       "      <td>8.0</td>\n",
       "      <td>NaN</td>\n",
       "      <td>4.0</td>\n",
       "      <td>NaN</td>\n",
       "      <td>NaN</td>\n",
       "    </tr>\n",
       "    <tr>\n",
       "      <th>3422</th>\n",
       "      <td>100.0</td>\n",
       "      <td>NaN</td>\n",
       "      <td>NaN</td>\n",
       "      <td>NaN</td>\n",
       "      <td>NaN</td>\n",
       "      <td>NaN</td>\n",
       "      <td>NaN</td>\n",
       "    </tr>\n",
       "    <tr>\n",
       "      <th>3580</th>\n",
       "      <td>100.0</td>\n",
       "      <td>NaN</td>\n",
       "      <td>10.0</td>\n",
       "      <td>NaN</td>\n",
       "      <td>10.0</td>\n",
       "      <td>NaN</td>\n",
       "      <td>NaN</td>\n",
       "    </tr>\n",
       "    <tr>\n",
       "      <th>3585</th>\n",
       "      <td>100.0</td>\n",
       "      <td>NaN</td>\n",
       "      <td>NaN</td>\n",
       "      <td>NaN</td>\n",
       "      <td>10.0</td>\n",
       "      <td>10.0</td>\n",
       "      <td>10.0</td>\n",
       "    </tr>\n",
       "  </tbody>\n",
       "</table>\n",
       "</div>"
      ],
      "text/plain": [
       "      review_scores_rating  review_scores_accuracy  review_scores_cleanliness  \\\n",
       "212                   90.0                     NaN                       10.0   \n",
       "240                  100.0                     NaN                       10.0   \n",
       "653                  100.0                    10.0                       10.0   \n",
       "738                   80.0                     NaN                        NaN   \n",
       "1609                  80.0                     NaN                        NaN   \n",
       "1838                 100.0                     NaN                       10.0   \n",
       "1981                 100.0                     NaN                        NaN   \n",
       "2000                 100.0                     NaN                        NaN   \n",
       "2442                 100.0                     8.0                       10.0   \n",
       "2483                  80.0                     NaN                        8.0   \n",
       "3422                 100.0                     NaN                        NaN   \n",
       "3580                 100.0                     NaN                       10.0   \n",
       "3585                 100.0                     NaN                        NaN   \n",
       "\n",
       "      review_scores_checkin  review_scores_communication  \\\n",
       "212                    10.0                         10.0   \n",
       "240                     NaN                         10.0   \n",
       "653                    10.0                         10.0   \n",
       "738                     NaN                          NaN   \n",
       "1609                    NaN                         10.0   \n",
       "1838                    NaN                         10.0   \n",
       "1981                    NaN                          NaN   \n",
       "2000                    NaN                          NaN   \n",
       "2442                    NaN                         10.0   \n",
       "2483                    NaN                          4.0   \n",
       "3422                    NaN                          NaN   \n",
       "3580                    NaN                         10.0   \n",
       "3585                    NaN                         10.0   \n",
       "\n",
       "      review_scores_location  review_scores_value  \n",
       "212                      8.0                 10.0  \n",
       "240                      NaN                  NaN  \n",
       "653                     10.0                  NaN  \n",
       "738                      NaN                  NaN  \n",
       "1609                    10.0                  8.0  \n",
       "1838                     NaN                  NaN  \n",
       "1981                     NaN                  NaN  \n",
       "2000                     NaN                  NaN  \n",
       "2442                    10.0                 10.0  \n",
       "2483                     NaN                  NaN  \n",
       "3422                     NaN                  NaN  \n",
       "3580                     NaN                  NaN  \n",
       "3585                    10.0                 10.0  "
      ]
     },
     "execution_count": 21,
     "metadata": {},
     "output_type": "execute_result"
    }
   ],
   "source": [
    "#find partial null rows\n",
    "partial_nulls=listings_df[review_cols].isna().any(axis=1) & ~scores_df[review_cols].isna().all(axis=1)\n",
    "listings_df[partial_nulls][review_cols]"
   ]
  },
  {
   "cell_type": "markdown",
   "id": "afd1da3e-db74-4e65-9140-9f33a0c8a3c6",
   "metadata": {},
   "source": [
    "- 13 rows where review_scores rating is determined but missing scpres in other categories"
   ]
  },
  {
   "cell_type": "code",
   "execution_count": 22,
   "id": "f885d181-482f-4e59-8b0e-dceeb4286cfc",
   "metadata": {},
   "outputs": [
    {
     "data": {
      "text/plain": [
       "0        $85.00\n",
       "1       $150.00\n",
       "2       $975.00\n",
       "3       $100.00\n",
       "4       $450.00\n",
       "         ...   \n",
       "3813    $359.00\n",
       "3814     $79.00\n",
       "3815     $93.00\n",
       "3816     $99.00\n",
       "3817     $87.00\n",
       "Name: price, Length: 3818, dtype: object"
      ]
     },
     "execution_count": 22,
     "metadata": {},
     "output_type": "execute_result"
    }
   ],
   "source": [
    "listings_df['price']"
   ]
  },
  {
   "cell_type": "markdown",
   "id": "967b5b28-998c-4fc0-8905-223565fe6ed6",
   "metadata": {},
   "source": [
    "- price is an object column with currency characters"
   ]
  },
  {
   "cell_type": "code",
   "execution_count": 23,
   "id": "c76e0412-faac-494e-8d9c-44ddbf782ce1",
   "metadata": {},
   "outputs": [
    {
     "name": "stdout",
     "output_type": "stream",
     "text": [
      "<class 'pandas.core.frame.DataFrame'>\n",
      "RangeIndex: 3818 entries, 0 to 3817\n",
      "Data columns (total 4 columns):\n",
      " #   Column       Non-Null Count  Dtype  \n",
      "---  ------       --------------  -----  \n",
      " 0   bathrooms    3802 non-null   float64\n",
      " 1   bedrooms     3812 non-null   float64\n",
      " 2   beds         3817 non-null   float64\n",
      " 3   square_feet  97 non-null     float64\n",
      "dtypes: float64(4)\n",
      "memory usage: 119.4 KB\n"
     ]
    }
   ],
   "source": [
    "#investigate columns which relate to size of property\n",
    "size_cols=['bathrooms','bedrooms','beds','square_feet']\n",
    "\n",
    "listings_df[size_cols].info()"
   ]
  },
  {
   "cell_type": "code",
   "execution_count": 24,
   "id": "1d1ea540-1259-4c29-9ccf-e7bf568c8efb",
   "metadata": {},
   "outputs": [
    {
     "data": {
      "text/html": [
       "<div>\n",
       "<style scoped>\n",
       "    .dataframe tbody tr th:only-of-type {\n",
       "        vertical-align: middle;\n",
       "    }\n",
       "\n",
       "    .dataframe tbody tr th {\n",
       "        vertical-align: top;\n",
       "    }\n",
       "\n",
       "    .dataframe thead th {\n",
       "        text-align: right;\n",
       "    }\n",
       "</style>\n",
       "<table border=\"1\" class=\"dataframe\">\n",
       "  <thead>\n",
       "    <tr style=\"text-align: right;\">\n",
       "      <th></th>\n",
       "      <th>bathrooms</th>\n",
       "      <th>bedrooms</th>\n",
       "      <th>beds</th>\n",
       "      <th>square_feet</th>\n",
       "    </tr>\n",
       "  </thead>\n",
       "  <tbody>\n",
       "    <tr>\n",
       "      <th>1961</th>\n",
       "      <td>NaN</td>\n",
       "      <td>1.0</td>\n",
       "      <td>NaN</td>\n",
       "      <td>NaN</td>\n",
       "    </tr>\n",
       "  </tbody>\n",
       "</table>\n",
       "</div>"
      ],
      "text/plain": [
       "      bathrooms  bedrooms  beds  square_feet\n",
       "1961        NaN       1.0   NaN          NaN"
      ]
     },
     "execution_count": 24,
     "metadata": {},
     "output_type": "execute_result"
    }
   ],
   "source": [
    "listings_df[size_cols][listings_df['beds'].isna()]"
   ]
  },
  {
   "cell_type": "markdown",
   "id": "0925dd4d-3062-4c15-af7b-eb0f5d4159a7",
   "metadata": {},
   "source": [
    "- square_feet, are non-null in the minority, so can be dropped\n",
    "- 1 null bed drop\n",
    "- bathrooms and bedrooms have <15 nulls, so can be imputed from medium for bed value"
   ]
  },
  {
   "cell_type": "markdown",
   "id": "7cacf8f4-a4df-4c45-8443-cf88ac304811",
   "metadata": {},
   "source": [
    "**Notes**:\n",
    "    \n",
    "- from .info() all licenses are null (column could be dropped)\n",
    "- only 97 non null square feet entries\n",
    "- monthly price are not applicaple to all property listings \n",
    "- Apart from all null scores, all rows have at least a review scores\n",
    "- Where this accors, impute the missing values with the review_scores_rating\n",
    "- 647 rows with no reviews data\n",
    "- square_feet, are non-null in the minority, so can be dropped\n",
    "- 1 null bed drop\n",
    "- bathrooms and bedrooms have <15 nulls, so can be imputed from medium for bed value\n",
    "- price is an object column with currency characters"
   ]
  },
  {
   "cell_type": "markdown",
   "id": "9c957982-52bc-4116-9008-3e7ab9fc3801",
   "metadata": {},
   "source": [
    "## 3.3 Assess Reviews"
   ]
  },
  {
   "cell_type": "code",
   "execution_count": 25,
   "id": "407f284b-08f7-4628-9069-78ac449c8cca",
   "metadata": {},
   "outputs": [
    {
     "data": {
      "text/html": [
       "<div>\n",
       "<style scoped>\n",
       "    .dataframe tbody tr th:only-of-type {\n",
       "        vertical-align: middle;\n",
       "    }\n",
       "\n",
       "    .dataframe tbody tr th {\n",
       "        vertical-align: top;\n",
       "    }\n",
       "\n",
       "    .dataframe thead th {\n",
       "        text-align: right;\n",
       "    }\n",
       "</style>\n",
       "<table border=\"1\" class=\"dataframe\">\n",
       "  <thead>\n",
       "    <tr style=\"text-align: right;\">\n",
       "      <th></th>\n",
       "      <th>listing_id</th>\n",
       "      <th>id</th>\n",
       "      <th>date</th>\n",
       "      <th>reviewer_id</th>\n",
       "      <th>reviewer_name</th>\n",
       "      <th>comments</th>\n",
       "    </tr>\n",
       "  </thead>\n",
       "  <tbody>\n",
       "    <tr>\n",
       "      <th>0</th>\n",
       "      <td>7202016</td>\n",
       "      <td>38917982</td>\n",
       "      <td>2015-07-19</td>\n",
       "      <td>28943674</td>\n",
       "      <td>Bianca</td>\n",
       "      <td>Cute and cozy place. Perfect location to every...</td>\n",
       "    </tr>\n",
       "    <tr>\n",
       "      <th>1</th>\n",
       "      <td>7202016</td>\n",
       "      <td>39087409</td>\n",
       "      <td>2015-07-20</td>\n",
       "      <td>32440555</td>\n",
       "      <td>Frank</td>\n",
       "      <td>Kelly has a great room in a very central locat...</td>\n",
       "    </tr>\n",
       "    <tr>\n",
       "      <th>2</th>\n",
       "      <td>7202016</td>\n",
       "      <td>39820030</td>\n",
       "      <td>2015-07-26</td>\n",
       "      <td>37722850</td>\n",
       "      <td>Ian</td>\n",
       "      <td>Very spacious apartment, and in a great neighb...</td>\n",
       "    </tr>\n",
       "    <tr>\n",
       "      <th>3</th>\n",
       "      <td>7202016</td>\n",
       "      <td>40813543</td>\n",
       "      <td>2015-08-02</td>\n",
       "      <td>33671805</td>\n",
       "      <td>George</td>\n",
       "      <td>Close to Seattle Center and all it has to offe...</td>\n",
       "    </tr>\n",
       "    <tr>\n",
       "      <th>4</th>\n",
       "      <td>7202016</td>\n",
       "      <td>41986501</td>\n",
       "      <td>2015-08-10</td>\n",
       "      <td>34959538</td>\n",
       "      <td>Ming</td>\n",
       "      <td>Kelly was a great host and very accommodating ...</td>\n",
       "    </tr>\n",
       "  </tbody>\n",
       "</table>\n",
       "</div>"
      ],
      "text/plain": [
       "   listing_id        id       date  reviewer_id reviewer_name  \\\n",
       "0     7202016  38917982 2015-07-19     28943674        Bianca   \n",
       "1     7202016  39087409 2015-07-20     32440555         Frank   \n",
       "2     7202016  39820030 2015-07-26     37722850           Ian   \n",
       "3     7202016  40813543 2015-08-02     33671805        George   \n",
       "4     7202016  41986501 2015-08-10     34959538          Ming   \n",
       "\n",
       "                                            comments  \n",
       "0  Cute and cozy place. Perfect location to every...  \n",
       "1  Kelly has a great room in a very central locat...  \n",
       "2  Very spacious apartment, and in a great neighb...  \n",
       "3  Close to Seattle Center and all it has to offe...  \n",
       "4  Kelly was a great host and very accommodating ...  "
      ]
     },
     "execution_count": 25,
     "metadata": {},
     "output_type": "execute_result"
    }
   ],
   "source": [
    "reviews_df.head()"
   ]
  },
  {
   "cell_type": "code",
   "execution_count": 26,
   "id": "2603678b-fe28-450e-9e21-097841f9659a",
   "metadata": {},
   "outputs": [
    {
     "name": "stdout",
     "output_type": "stream",
     "text": [
      "<class 'pandas.core.frame.DataFrame'>\n",
      "RangeIndex: 84849 entries, 0 to 84848\n",
      "Data columns (total 6 columns):\n",
      " #   Column         Non-Null Count  Dtype         \n",
      "---  ------         --------------  -----         \n",
      " 0   listing_id     84849 non-null  int64         \n",
      " 1   id             84849 non-null  int64         \n",
      " 2   date           84849 non-null  datetime64[ns]\n",
      " 3   reviewer_id    84849 non-null  int64         \n",
      " 4   reviewer_name  84849 non-null  object        \n",
      " 5   comments       84831 non-null  object        \n",
      "dtypes: datetime64[ns](1), int64(3), object(2)\n",
      "memory usage: 3.9+ MB\n"
     ]
    }
   ],
   "source": [
    "reviews_df.info()"
   ]
  },
  {
   "cell_type": "markdown",
   "id": "f7df72eb-8a0a-40a6-b8a7-677f2979781b",
   "metadata": {},
   "source": [
    "- some nulls in comments"
   ]
  },
  {
   "cell_type": "code",
   "execution_count": 27,
   "id": "1225d0e3-dd03-4aba-a6f6-be57c18bfdc6",
   "metadata": {},
   "outputs": [
    {
     "data": {
      "text/plain": [
       "The host canceled this reservation the day before arrival. This is an automated posting.                                                                                                                                                                                                                                                                                                                                                                                                                                                                                                                                                                                                                                                                                                                                                                                                                                                                                                                                                                                                                                                                                                                                                                                                                                                                                                                                                                                                                                                                                                                                                                                                                                                                                   57\n",
       "The reservation was canceled the day before arrival. This is an automated posting.                                                                                                                                                                                                                                                                                                                                                                                                                                                                                                                                                                                                                                                                                                                                                                                                                                                                                                                                                                                                                                                                                                                                                                                                                                                                                                                                                                                                                                                                                                                                                                                                                                                                                         48\n",
       "The host canceled this reservation 4 days before arrival. This is an automated posting.                                                                                                                                                                                                                                                                                                                                                                                                                                                                                                                                                                                                                                                                                                                                                                                                                                                                                                                                                                                                                                                                                                                                                                                                                                                                                                                                                                                                                                                                                                                                                                                                                                                                                    22\n",
       "The reservation was canceled 2 days before arrival. This is an automated posting.                                                                                                                                                                                                                                                                                                                                                                                                                                                                                                                                                                                                                                                                                                                                                                                                                                                                                                                                                                                                                                                                                                                                                                                                                                                                                                                                                                                                                                                                                                                                                                                                                                                                                          19\n",
       "The host canceled this reservation 2 days before arrival. This is an automated posting.                                                                                                                                                                                                                                                                                                                                                                                                                                                                                                                                                                                                                                                                                                                                                                                                                                                                                                                                                                                                                                                                                                                                                                                                                                                                                                                                                                                                                                                                                                                                                                                                                                                                                    17\n",
       "                                                                                                                                                                                                                                                                                                                                                                                                                                                                                                                                                                                                                                                                                                                                                                                                                                                                                                                                                                                                                                                                                                                                                                                                                                                                                                                                                                                                                                                                                                                                                                                                                                                                                                                                                                           ..\n",
       "The pictures probably say it all, but I'll add on a few words: this little cottage was terrific. It's exactly as you see in the photos, except for the sense of calm and warmth you feel while you're there. We enjoyed the surrounding neighborhood, too. Fremont has lots of fun stuff, great coffee, good food and drinks.\\r\\n\\r\\nNan was very open and communicative and I appreciated that. The cottage had everything we needed and even things we didn't: cocoa and tea.\\r\\n\\r\\nI'd go back here all the time if I didn't live a million miles away.                                                                                                                                                                                                                                                                                                                                                                                                                                                                                                                                                                                                                                                                                                                                                                                                                                                                                                                                                                                                                                                                                                                                                                                                                 1\n",
       "Convenient, very nice, and clean.\\r\\n\\r\\nMy girlfriend and I spent 3 days in Seattle and stayed at Sid's condo.  This place is just cool.  The building is clearly brand new and the amenities are sweet.  There's a gym, game lobby, and a gorgeous roof terrace overlooking the city....and that's before you even enter the condo itself.  \\r\\n\\r\\nSid's place is modern yet comfortable.  It is very clean and only about a 10 minute walk to Pike Place Market.  Also, there's a great restaurant/bar attached to the building that has some killer Moscow Mules (only $5 from 4-7 and 10-12 M - F).  \\r\\n\\r\\nSid was very responsive and his instructions were clear and easy to understand.  \\r\\n\\r\\nRestaurant Recommendations:  Rocco's just around the corner on 2nd ave., Top Pot on Blanchard and 5th Ave for doughnuts (Obama's eaten here - good or bad thing depending on your preferences), and El Borracho near Pike Place Market ($1-$2 tiny tacos and $4 margaritas.  Try the Carnitas and the $2 Steak taco..yum).\\r\\n\\r\\nSummary:  Clean, cool, convenient, great host, great location.\\r\\n\\r\\nI would recommend Sid's place to anyone and everyone                                                                                                                                                                                                                                                                                                                                                                                                                                                                                                                                                                                                    1\n",
       "It was a great time in a perfect location!                                                                                                                                                                                                                                                                                                                                                                                                                                                                                                                                                                                                                                                                                                                                                                                                                                                                                                                                                                                                                                                                                                                                                                                                                                                                                                                                                                                                                                                                                                                                                                                                                                                                                                                                  1\n",
       "Perfect place for us for our stay in Seattle. We used to live in Capital Hill so it was exactly the location we wanted to be in giving central access to the city and great jogging nearby that overlooks Lake Union or Interlaken park which is amazing trail running in the middle of the city but you feel like your far away in the woods and our favorite restaurants, including our go to breakfast place Homegrown. The apartment is very nice and upscale, extremely well decorated with gourmet stove top coffee, organic foods, recycling, and very well organized. You get your own room on the first floor with keycode access, private bathroom and patio, and we never saw anyone the whole weekend so it seemed like we had our own fancy house to ourselves, but Rochelle was quick to reply to a text message to attend to any questions or needs. This was ideal for our stay in Seattle, cheaper and nicer than any hotel I could get for the same price but with triple the value. This couldn't have been more perfect for our stay in Seattle and I would recommend it to anyone of all ages. We had a rental car and never had a problem with parking on 10th street outside but your also down the street from public transportation. I would definitely plan on staying here next trip to Seattle and honestly may never plan on staying in a hotel again when visiting other cities in the future as this was my first airbnb experience and I can't believe I don't do this all the time. 10/10! No complaints whatsoever. She even had a spare hairdryer under the sink when mine wouldn't work and we were in a time crunch to make it to the Sounders game after a long day hike, but Rochelle to the rescue without even having to ask!      1\n",
       "This was a great place to stay. The listing was as advertised, clean, cozy, and had great access to the city. Will definitely rent from again!                                                                                                                                                                                                                                                                                                                                                                                                                                                                                                                                                                                                                                                                                                                                                                                                                                                                                                                                                                                                                                                                                                                                                                                                                                                                                                                                                                                                                                                                                                                                                                                                                              1\n",
       "Name: comments, Length: 84136, dtype: int64"
      ]
     },
     "execution_count": 27,
     "metadata": {},
     "output_type": "execute_result"
    }
   ],
   "source": [
    "reviews_df['comments'].value_counts()"
   ]
  },
  {
   "cell_type": "markdown",
   "id": "9d348020-d487-4d88-ac9f-ce18f84ef13b",
   "metadata": {},
   "source": [
    "- There are 'automated postings' in the comments. They seem to relate to cancelled bookings by the host"
   ]
  },
  {
   "cell_type": "code",
   "execution_count": 28,
   "id": "344cb535-942d-4c4c-802d-12e36b853e93",
   "metadata": {},
   "outputs": [
    {
     "data": {
      "text/plain": [
       "False    84035\n",
       "True       796\n",
       "Name: comments, dtype: int64"
      ]
     },
     "execution_count": 28,
     "metadata": {},
     "output_type": "execute_result"
    }
   ],
   "source": [
    "reviews_df['comments'].str.contains('This is an automated posting.').value_counts()"
   ]
  },
  {
   "cell_type": "markdown",
   "id": "47fb5f4e-c901-4b89-98f6-96a9da73e6fb",
   "metadata": {},
   "source": [
    "- automated reviews are in the minority\n",
    "- auto review is an option on the air bnb website"
   ]
  },
  {
   "cell_type": "code",
   "execution_count": 29,
   "id": "fbea6c1f-f815-4772-9e33-859861240abe",
   "metadata": {},
   "outputs": [],
   "source": [
    "auto_reviews=reviews_df[reviews_df['comments'].str.contains('This is an automated posting.')==True]"
   ]
  },
  {
   "cell_type": "code",
   "execution_count": 30,
   "id": "8abfe516-9f57-4872-9e4e-c6da7cde68c2",
   "metadata": {},
   "outputs": [
    {
     "data": {
      "text/html": [
       "<div>\n",
       "<style scoped>\n",
       "    .dataframe tbody tr th:only-of-type {\n",
       "        vertical-align: middle;\n",
       "    }\n",
       "\n",
       "    .dataframe tbody tr th {\n",
       "        vertical-align: top;\n",
       "    }\n",
       "\n",
       "    .dataframe thead th {\n",
       "        text-align: right;\n",
       "    }\n",
       "</style>\n",
       "<table border=\"1\" class=\"dataframe\">\n",
       "  <thead>\n",
       "    <tr style=\"text-align: right;\">\n",
       "      <th></th>\n",
       "      <th>listing_id</th>\n",
       "      <th>id</th>\n",
       "      <th>date</th>\n",
       "      <th>reviewer_id</th>\n",
       "      <th>reviewer_name</th>\n",
       "      <th>comments</th>\n",
       "    </tr>\n",
       "  </thead>\n",
       "  <tbody>\n",
       "    <tr>\n",
       "      <th>83</th>\n",
       "      <td>7735100</td>\n",
       "      <td>57419048</td>\n",
       "      <td>2015-12-25</td>\n",
       "      <td>13019539</td>\n",
       "      <td>Tibor</td>\n",
       "      <td>The host canceled this reservation 21 days bef...</td>\n",
       "    </tr>\n",
       "    <tr>\n",
       "      <th>525</th>\n",
       "      <td>4681885</td>\n",
       "      <td>36497374</td>\n",
       "      <td>2015-06-28</td>\n",
       "      <td>32856761</td>\n",
       "      <td>Zach</td>\n",
       "      <td>The host canceled this reservation the day bef...</td>\n",
       "    </tr>\n",
       "    <tr>\n",
       "      <th>575</th>\n",
       "      <td>2420536</td>\n",
       "      <td>21648649</td>\n",
       "      <td>2014-10-20</td>\n",
       "      <td>12714608</td>\n",
       "      <td>New</td>\n",
       "      <td>The reservation was canceled 132 days before a...</td>\n",
       "    </tr>\n",
       "    <tr>\n",
       "      <th>737</th>\n",
       "      <td>1122236</td>\n",
       "      <td>17034635</td>\n",
       "      <td>2014-08-05</td>\n",
       "      <td>3538520</td>\n",
       "      <td>Ran</td>\n",
       "      <td>The reservation was canceled 37 days before ar...</td>\n",
       "    </tr>\n",
       "    <tr>\n",
       "      <th>761</th>\n",
       "      <td>1122236</td>\n",
       "      <td>40070019</td>\n",
       "      <td>2015-07-28</td>\n",
       "      <td>29398794</td>\n",
       "      <td>Matthew</td>\n",
       "      <td>The host canceled this reservation 5 days befo...</td>\n",
       "    </tr>\n",
       "    <tr>\n",
       "      <th>...</th>\n",
       "      <td>...</td>\n",
       "      <td>...</td>\n",
       "      <td>...</td>\n",
       "      <td>...</td>\n",
       "      <td>...</td>\n",
       "      <td>...</td>\n",
       "    </tr>\n",
       "    <tr>\n",
       "      <th>83908</th>\n",
       "      <td>6659301</td>\n",
       "      <td>49517702</td>\n",
       "      <td>2015-10-04</td>\n",
       "      <td>8611385</td>\n",
       "      <td>Ceci</td>\n",
       "      <td>The host canceled this reservation the day bef...</td>\n",
       "    </tr>\n",
       "    <tr>\n",
       "      <th>84019</th>\n",
       "      <td>442487</td>\n",
       "      <td>3075839</td>\n",
       "      <td>2012-12-11</td>\n",
       "      <td>2602857</td>\n",
       "      <td>Courtney</td>\n",
       "      <td>The reservation was canceled 17 days before ar...</td>\n",
       "    </tr>\n",
       "    <tr>\n",
       "      <th>84035</th>\n",
       "      <td>442487</td>\n",
       "      <td>6841613</td>\n",
       "      <td>2013-08-26</td>\n",
       "      <td>7324758</td>\n",
       "      <td>Lily</td>\n",
       "      <td>The reservation was canceled 38 days before ar...</td>\n",
       "    </tr>\n",
       "    <tr>\n",
       "      <th>84247</th>\n",
       "      <td>315120</td>\n",
       "      <td>17667337</td>\n",
       "      <td>2014-08-15</td>\n",
       "      <td>7773757</td>\n",
       "      <td>Pippa</td>\n",
       "      <td>The reservation was canceled 4 days before arr...</td>\n",
       "    </tr>\n",
       "    <tr>\n",
       "      <th>84455</th>\n",
       "      <td>6781308</td>\n",
       "      <td>49415789</td>\n",
       "      <td>2015-10-04</td>\n",
       "      <td>18024699</td>\n",
       "      <td>Mika</td>\n",
       "      <td>The host canceled this reservation 4 days befo...</td>\n",
       "    </tr>\n",
       "  </tbody>\n",
       "</table>\n",
       "<p>796 rows × 6 columns</p>\n",
       "</div>"
      ],
      "text/plain": [
       "       listing_id        id       date  reviewer_id reviewer_name  \\\n",
       "83        7735100  57419048 2015-12-25     13019539         Tibor   \n",
       "525       4681885  36497374 2015-06-28     32856761          Zach   \n",
       "575       2420536  21648649 2014-10-20     12714608           New   \n",
       "737       1122236  17034635 2014-08-05      3538520           Ran   \n",
       "761       1122236  40070019 2015-07-28     29398794       Matthew   \n",
       "...           ...       ...        ...          ...           ...   \n",
       "83908     6659301  49517702 2015-10-04      8611385          Ceci   \n",
       "84019      442487   3075839 2012-12-11      2602857      Courtney   \n",
       "84035      442487   6841613 2013-08-26      7324758          Lily   \n",
       "84247      315120  17667337 2014-08-15      7773757         Pippa   \n",
       "84455     6781308  49415789 2015-10-04     18024699          Mika   \n",
       "\n",
       "                                                comments  \n",
       "83     The host canceled this reservation 21 days bef...  \n",
       "525    The host canceled this reservation the day bef...  \n",
       "575    The reservation was canceled 132 days before a...  \n",
       "737    The reservation was canceled 37 days before ar...  \n",
       "761    The host canceled this reservation 5 days befo...  \n",
       "...                                                  ...  \n",
       "83908  The host canceled this reservation the day bef...  \n",
       "84019  The reservation was canceled 17 days before ar...  \n",
       "84035  The reservation was canceled 38 days before ar...  \n",
       "84247  The reservation was canceled 4 days before arr...  \n",
       "84455  The host canceled this reservation 4 days befo...  \n",
       "\n",
       "[796 rows x 6 columns]"
      ]
     },
     "execution_count": 30,
     "metadata": {},
     "output_type": "execute_result"
    }
   ],
   "source": [
    "auto_reviews"
   ]
  },
  {
   "cell_type": "code",
   "execution_count": 31,
   "id": "8ba95780-3aac-4759-a218-c8ad2238180a",
   "metadata": {},
   "outputs": [
    {
     "data": {
      "text/plain": [
       "David      10\n",
       "Michael     9\n",
       "Laura       7\n",
       "Sarah       7\n",
       "Jessica     6\n",
       "           ..\n",
       "Mengyao     1\n",
       "Martina     1\n",
       "Ariel       1\n",
       "Claire      1\n",
       "Philipp     1\n",
       "Name: reviewer_name, Length: 562, dtype: int64"
      ]
     },
     "execution_count": 31,
     "metadata": {},
     "output_type": "execute_result"
    }
   ],
   "source": [
    "auto_reviews['reviewer_name'].value_counts()"
   ]
  },
  {
   "cell_type": "markdown",
   "id": "65f8a5d9-13c7-4343-9874-3a656e665a51",
   "metadata": {},
   "source": [
    "**Notes**\n",
    "\n",
    "- some nulls in comments\n",
    "- There are 'automated postings' in the comments. They seem to relate to cancelled bookings by the host\n",
    "- automated reviews are in the minority\n",
    "- auto review is an option on the air bnb website"
   ]
  },
  {
   "cell_type": "markdown",
   "id": "ee79eee7-90b0-42cd-a0ad-9c1add55f0cf",
   "metadata": {},
   "source": [
    "# 3 Prepare Data"
   ]
  },
  {
   "cell_type": "markdown",
   "id": "4ec73c12-2af3-4517-aa24-72d1fc32aa65",
   "metadata": {},
   "source": [
    "### 3.1 Clean Calander"
   ]
  },
  {
   "cell_type": "markdown",
   "id": "574c8375-25c1-4fc9-a2d3-72816c4a1a2d",
   "metadata": {},
   "source": [
    "**Assessment**:\n",
    "\n",
    "- price is an object\n",
    "- price contains currency indicators\n",
    "- price is missing on approx. 33% of rows\n",
    "- all null prices are for unavailable listings\n",
    "    "
   ]
  },
  {
   "cell_type": "code",
   "execution_count": 32,
   "id": "adc3aed2-3e29-44ef-a8ef-b58b48ce44d2",
   "metadata": {},
   "outputs": [],
   "source": [
    "calendar_clean=calendar_df.copy()"
   ]
  },
  {
   "cell_type": "markdown",
   "id": "632a22d5-43cf-4476-acbd-0f4dae96f7f6",
   "metadata": {},
   "source": [
    "Change price to float by removing currency and punctuation"
   ]
  },
  {
   "cell_type": "code",
   "execution_count": 33,
   "id": "9a03ad57-d7a1-456c-8c39-1f83827b32f0",
   "metadata": {},
   "outputs": [],
   "source": [
    "calendar_clean['price']=calendar_df['price'].str.replace('$','',regex=True).replace(',','',regex=True).astype('float64')"
   ]
  },
  {
   "cell_type": "code",
   "execution_count": 34,
   "id": "7cca1dcd-2563-4f15-b463-265af82d92af",
   "metadata": {},
   "outputs": [
    {
     "data": {
      "text/plain": [
       "150.0    36646\n",
       "100.0    31755\n",
       "75.0     29820\n",
       "125.0    27538\n",
       "65.0     26415\n",
       "         ...  \n",
       "693.0        1\n",
       "683.0        1\n",
       "643.0        1\n",
       "618.0        1\n",
       "744.0        1\n",
       "Name: price, Length: 669, dtype: int64"
      ]
     },
     "execution_count": 34,
     "metadata": {},
     "output_type": "execute_result"
    }
   ],
   "source": [
    "calendar_clean['price'].value_counts()"
   ]
  },
  {
   "cell_type": "code",
   "execution_count": 35,
   "id": "2bf1fe6a-2c8c-44cb-9016-03309179150e",
   "metadata": {},
   "outputs": [
    {
     "name": "stdout",
     "output_type": "stream",
     "text": [
      "<class 'pandas.core.frame.DataFrame'>\n",
      "RangeIndex: 1393570 entries, 0 to 1393569\n",
      "Data columns (total 4 columns):\n",
      " #   Column      Non-Null Count    Dtype         \n",
      "---  ------      --------------    -----         \n",
      " 0   listing_id  1393570 non-null  int64         \n",
      " 1   date        1393570 non-null  datetime64[ns]\n",
      " 2   available   1393570 non-null  object        \n",
      " 3   price       934542 non-null   float64       \n",
      "dtypes: datetime64[ns](1), float64(1), int64(1), object(1)\n",
      "memory usage: 42.5+ MB\n"
     ]
    }
   ],
   "source": [
    "calendar_clean.info()"
   ]
  },
  {
   "cell_type": "markdown",
   "id": "15f2463b-bb7f-4afc-8576-1acc057fc365",
   "metadata": {},
   "source": [
    "null prices are valid"
   ]
  },
  {
   "cell_type": "markdown",
   "id": "20768c10-de4c-494c-b7dd-1efa89dcbbfb",
   "metadata": {},
   "source": [
    "## 3.2 Clean Listings"
   ]
  },
  {
   "cell_type": "markdown",
   "id": "3ace669b-ad47-4fb8-8e9d-0b98bf344a7b",
   "metadata": {},
   "source": [
    "**Assessment**:\n",
    "\n",
    "- from .info() all licenses are null (column could be dropped)\n",
    "- only 97 non null square feet entries\n",
    "- monthly price are not applicaple to all property listings \n",
    "- Apart from all null scores, all rows have at least a review scores\n",
    "- Where this accors, impute the missing values with the review_scores_rating\n",
    "- 647 rows with no reviews data\n",
    "- square_feet, are non-null in the minority, so can be dropped\n",
    "- 1 null bed drop\n",
    "- bathrooms and bedrooms have <15 nulls, so can be imputed from medium for bed value\n",
    "- price is an object column with currency characters"
   ]
  },
  {
   "cell_type": "code",
   "execution_count": 36,
   "id": "467abff7-6a65-4417-a5cd-e95ac357679d",
   "metadata": {},
   "outputs": [],
   "source": [
    "listings_clean=listings_df.copy()"
   ]
  },
  {
   "cell_type": "markdown",
   "id": "bc8ce91c-2131-4453-9e8c-7743fbe6f3ca",
   "metadata": {},
   "source": [
    "#### Reformat price to float"
   ]
  },
  {
   "cell_type": "code",
   "execution_count": 37,
   "id": "2ed2f471-bac4-4a81-ad80-b8c19cabf484",
   "metadata": {},
   "outputs": [],
   "source": [
    "#clean price column\n",
    "listings_clean['price']=listings_df['price'].str.replace('$','',regex=True).replace(',','',regex=True).astype('float64')"
   ]
  },
  {
   "cell_type": "code",
   "execution_count": 38,
   "id": "92576d90-bd67-49c4-aff7-4db169df86c3",
   "metadata": {},
   "outputs": [
    {
     "data": {
      "text/plain": [
       "0        85.0\n",
       "1       150.0\n",
       "2       975.0\n",
       "3       100.0\n",
       "4       450.0\n",
       "        ...  \n",
       "3813    359.0\n",
       "3814     79.0\n",
       "3815     93.0\n",
       "3816     99.0\n",
       "3817     87.0\n",
       "Name: price, Length: 3818, dtype: float64"
      ]
     },
     "execution_count": 38,
     "metadata": {},
     "output_type": "execute_result"
    }
   ],
   "source": [
    "listings_clean['price']"
   ]
  },
  {
   "cell_type": "markdown",
   "id": "c4635410-0ef2-4db0-b34d-e235d4fef38f",
   "metadata": {},
   "source": [
    "#### Impute missing reviews"
   ]
  },
  {
   "cell_type": "code",
   "execution_count": 39,
   "id": "f0ae6a84-542f-47b9-8779-05c4869cc437",
   "metadata": {},
   "outputs": [],
   "source": [
    "#fill with review_scores_rating/10\n",
    "for col in review_cols:\n",
    "    \n",
    "    listings_clean[col].fillna(listings_clean[\"review_scores_rating\"]/10,inplace=True)"
   ]
  },
  {
   "cell_type": "code",
   "execution_count": 40,
   "id": "7cb57ba6-96f3-4b3f-93e8-8ac6c07406b7",
   "metadata": {},
   "outputs": [
    {
     "data": {
      "text/html": [
       "<div>\n",
       "<style scoped>\n",
       "    .dataframe tbody tr th:only-of-type {\n",
       "        vertical-align: middle;\n",
       "    }\n",
       "\n",
       "    .dataframe tbody tr th {\n",
       "        vertical-align: top;\n",
       "    }\n",
       "\n",
       "    .dataframe thead th {\n",
       "        text-align: right;\n",
       "    }\n",
       "</style>\n",
       "<table border=\"1\" class=\"dataframe\">\n",
       "  <thead>\n",
       "    <tr style=\"text-align: right;\">\n",
       "      <th></th>\n",
       "      <th>review_scores_rating</th>\n",
       "      <th>review_scores_accuracy</th>\n",
       "      <th>review_scores_cleanliness</th>\n",
       "      <th>review_scores_checkin</th>\n",
       "      <th>review_scores_communication</th>\n",
       "      <th>review_scores_location</th>\n",
       "      <th>review_scores_value</th>\n",
       "    </tr>\n",
       "  </thead>\n",
       "  <tbody>\n",
       "    <tr>\n",
       "      <th>212</th>\n",
       "      <td>90.0</td>\n",
       "      <td>9.0</td>\n",
       "      <td>10.0</td>\n",
       "      <td>10.0</td>\n",
       "      <td>10.0</td>\n",
       "      <td>8.0</td>\n",
       "      <td>10.0</td>\n",
       "    </tr>\n",
       "    <tr>\n",
       "      <th>240</th>\n",
       "      <td>100.0</td>\n",
       "      <td>10.0</td>\n",
       "      <td>10.0</td>\n",
       "      <td>10.0</td>\n",
       "      <td>10.0</td>\n",
       "      <td>10.0</td>\n",
       "      <td>10.0</td>\n",
       "    </tr>\n",
       "    <tr>\n",
       "      <th>653</th>\n",
       "      <td>100.0</td>\n",
       "      <td>10.0</td>\n",
       "      <td>10.0</td>\n",
       "      <td>10.0</td>\n",
       "      <td>10.0</td>\n",
       "      <td>10.0</td>\n",
       "      <td>10.0</td>\n",
       "    </tr>\n",
       "    <tr>\n",
       "      <th>738</th>\n",
       "      <td>80.0</td>\n",
       "      <td>8.0</td>\n",
       "      <td>8.0</td>\n",
       "      <td>8.0</td>\n",
       "      <td>8.0</td>\n",
       "      <td>8.0</td>\n",
       "      <td>8.0</td>\n",
       "    </tr>\n",
       "    <tr>\n",
       "      <th>1609</th>\n",
       "      <td>80.0</td>\n",
       "      <td>8.0</td>\n",
       "      <td>8.0</td>\n",
       "      <td>8.0</td>\n",
       "      <td>10.0</td>\n",
       "      <td>10.0</td>\n",
       "      <td>8.0</td>\n",
       "    </tr>\n",
       "    <tr>\n",
       "      <th>1838</th>\n",
       "      <td>100.0</td>\n",
       "      <td>10.0</td>\n",
       "      <td>10.0</td>\n",
       "      <td>10.0</td>\n",
       "      <td>10.0</td>\n",
       "      <td>10.0</td>\n",
       "      <td>10.0</td>\n",
       "    </tr>\n",
       "    <tr>\n",
       "      <th>1981</th>\n",
       "      <td>100.0</td>\n",
       "      <td>10.0</td>\n",
       "      <td>10.0</td>\n",
       "      <td>10.0</td>\n",
       "      <td>10.0</td>\n",
       "      <td>10.0</td>\n",
       "      <td>10.0</td>\n",
       "    </tr>\n",
       "    <tr>\n",
       "      <th>2000</th>\n",
       "      <td>100.0</td>\n",
       "      <td>10.0</td>\n",
       "      <td>10.0</td>\n",
       "      <td>10.0</td>\n",
       "      <td>10.0</td>\n",
       "      <td>10.0</td>\n",
       "      <td>10.0</td>\n",
       "    </tr>\n",
       "    <tr>\n",
       "      <th>2442</th>\n",
       "      <td>100.0</td>\n",
       "      <td>8.0</td>\n",
       "      <td>10.0</td>\n",
       "      <td>10.0</td>\n",
       "      <td>10.0</td>\n",
       "      <td>10.0</td>\n",
       "      <td>10.0</td>\n",
       "    </tr>\n",
       "    <tr>\n",
       "      <th>2483</th>\n",
       "      <td>80.0</td>\n",
       "      <td>8.0</td>\n",
       "      <td>8.0</td>\n",
       "      <td>8.0</td>\n",
       "      <td>4.0</td>\n",
       "      <td>8.0</td>\n",
       "      <td>8.0</td>\n",
       "    </tr>\n",
       "    <tr>\n",
       "      <th>3422</th>\n",
       "      <td>100.0</td>\n",
       "      <td>10.0</td>\n",
       "      <td>10.0</td>\n",
       "      <td>10.0</td>\n",
       "      <td>10.0</td>\n",
       "      <td>10.0</td>\n",
       "      <td>10.0</td>\n",
       "    </tr>\n",
       "    <tr>\n",
       "      <th>3580</th>\n",
       "      <td>100.0</td>\n",
       "      <td>10.0</td>\n",
       "      <td>10.0</td>\n",
       "      <td>10.0</td>\n",
       "      <td>10.0</td>\n",
       "      <td>10.0</td>\n",
       "      <td>10.0</td>\n",
       "    </tr>\n",
       "    <tr>\n",
       "      <th>3585</th>\n",
       "      <td>100.0</td>\n",
       "      <td>10.0</td>\n",
       "      <td>10.0</td>\n",
       "      <td>10.0</td>\n",
       "      <td>10.0</td>\n",
       "      <td>10.0</td>\n",
       "      <td>10.0</td>\n",
       "    </tr>\n",
       "  </tbody>\n",
       "</table>\n",
       "</div>"
      ],
      "text/plain": [
       "      review_scores_rating  review_scores_accuracy  review_scores_cleanliness  \\\n",
       "212                   90.0                     9.0                       10.0   \n",
       "240                  100.0                    10.0                       10.0   \n",
       "653                  100.0                    10.0                       10.0   \n",
       "738                   80.0                     8.0                        8.0   \n",
       "1609                  80.0                     8.0                        8.0   \n",
       "1838                 100.0                    10.0                       10.0   \n",
       "1981                 100.0                    10.0                       10.0   \n",
       "2000                 100.0                    10.0                       10.0   \n",
       "2442                 100.0                     8.0                       10.0   \n",
       "2483                  80.0                     8.0                        8.0   \n",
       "3422                 100.0                    10.0                       10.0   \n",
       "3580                 100.0                    10.0                       10.0   \n",
       "3585                 100.0                    10.0                       10.0   \n",
       "\n",
       "      review_scores_checkin  review_scores_communication  \\\n",
       "212                    10.0                         10.0   \n",
       "240                    10.0                         10.0   \n",
       "653                    10.0                         10.0   \n",
       "738                     8.0                          8.0   \n",
       "1609                    8.0                         10.0   \n",
       "1838                   10.0                         10.0   \n",
       "1981                   10.0                         10.0   \n",
       "2000                   10.0                         10.0   \n",
       "2442                   10.0                         10.0   \n",
       "2483                    8.0                          4.0   \n",
       "3422                   10.0                         10.0   \n",
       "3580                   10.0                         10.0   \n",
       "3585                   10.0                         10.0   \n",
       "\n",
       "      review_scores_location  review_scores_value  \n",
       "212                      8.0                 10.0  \n",
       "240                     10.0                 10.0  \n",
       "653                     10.0                 10.0  \n",
       "738                      8.0                  8.0  \n",
       "1609                    10.0                  8.0  \n",
       "1838                    10.0                 10.0  \n",
       "1981                    10.0                 10.0  \n",
       "2000                    10.0                 10.0  \n",
       "2442                    10.0                 10.0  \n",
       "2483                     8.0                  8.0  \n",
       "3422                    10.0                 10.0  \n",
       "3580                    10.0                 10.0  \n",
       "3585                    10.0                 10.0  "
      ]
     },
     "execution_count": 40,
     "metadata": {},
     "output_type": "execute_result"
    }
   ],
   "source": [
    "listings_clean[review_cols][partital_nuls]"
   ]
  },
  {
   "cell_type": "markdown",
   "id": "c1bfc038-8202-42e7-9b2c-aac32ce3902d",
   "metadata": {},
   "source": [
    "#### Impute missing bathrooms and bedrooms, and drop row with no bed value"
   ]
  },
  {
   "cell_type": "code",
   "execution_count": 41,
   "id": "b783d6bf-66cb-478e-8f7a-e2f9045a4160",
   "metadata": {},
   "outputs": [],
   "source": [
    "#drop the row with a null beds value\n",
    "listings_clean=listings_clean.dropna(subset=['beds'],how='any')"
   ]
  },
  {
   "cell_type": "code",
   "execution_count": 42,
   "id": "4e7f3bd3-4b8c-4f2a-8ba7-cee2f1198a80",
   "metadata": {},
   "outputs": [
    {
     "data": {
      "text/plain": [
       "False    3802\n",
       "True       15\n",
       "Name: bathrooms, dtype: int64"
      ]
     },
     "execution_count": 42,
     "metadata": {},
     "output_type": "execute_result"
    }
   ],
   "source": [
    "#how many null bathrooms\n",
    "listings_clean['bathrooms'].isna().value_counts()"
   ]
  },
  {
   "cell_type": "code",
   "execution_count": 43,
   "id": "5758ed19-93df-4684-9544-44da9a5e1d85",
   "metadata": {},
   "outputs": [
    {
     "data": {
      "text/plain": [
       "False    3811\n",
       "True        6\n",
       "Name: bedrooms, dtype: int64"
      ]
     },
     "execution_count": 43,
     "metadata": {},
     "output_type": "execute_result"
    }
   ],
   "source": [
    "#how many null bedrooms\n",
    "listings_clean['bedrooms'].isna().value_counts()"
   ]
  },
  {
   "cell_type": "code",
   "execution_count": 44,
   "id": "3ca53a23-c9e5-4ec7-a4a6-e3a753846595",
   "metadata": {},
   "outputs": [
    {
     "data": {
      "text/plain": [
       "False    3817\n",
       "Name: bedrooms, dtype: int64"
      ]
     },
     "execution_count": 44,
     "metadata": {},
     "output_type": "execute_result"
    }
   ],
   "source": [
    "#impute missing bedrooms mean with mean bedrooms for same number of beds\n",
    "#credit https://towardsdatascience.com/using-pandas-transform-and-apply-to-deal-with-missing-data-on-a-group-level-cb6ccf060531\n",
    "listings_clean['bedrooms']=listings_clean.copy().groupby('beds')['bedrooms'].transform(lambda grp: grp.fillna(grp.mean()))\n",
    "listings_clean['bedrooms'].isna().value_counts()"
   ]
  },
  {
   "cell_type": "code",
   "execution_count": 45,
   "id": "12f43905-7e5f-481e-9658-68999c8f77fd",
   "metadata": {},
   "outputs": [
    {
     "data": {
      "text/plain": [
       "False    3817\n",
       "Name: bathrooms, dtype: int64"
      ]
     },
     "execution_count": 45,
     "metadata": {},
     "output_type": "execute_result"
    }
   ],
   "source": [
    "#impute missing bathrooms mean with mean bathrooms for same number of beds\n",
    "#credit https://towardsdatascience.com/using-pandas-transform-and-apply-to-deal-with-missing-data-on-a-group-level-cb6ccf060531\n",
    "listings_clean['bathrooms']=listings_clean.copy().groupby('beds')['bathrooms'].transform(lambda grp: grp.fillna(grp.mean()))\n",
    "listings_clean['bathrooms'].isna().value_counts()"
   ]
  },
  {
   "cell_type": "code",
   "execution_count": 46,
   "id": "190a954b-d4ad-4f3b-8ac4-c1ae3f9a9078",
   "metadata": {},
   "outputs": [],
   "source": [
    "#drop square_feet column\n",
    "listings_clean=listings_clean.drop(columns=[\"square_feet\"])\n"
   ]
  },
  {
   "cell_type": "code",
   "execution_count": 47,
   "id": "f6eff51b-e4ea-4073-9f6d-bd4453be3815",
   "metadata": {},
   "outputs": [
    {
     "name": "stdout",
     "output_type": "stream",
     "text": [
      "<class 'pandas.core.frame.DataFrame'>\n",
      "Int64Index: 3817 entries, 0 to 3817\n",
      "Data columns (total 3 columns):\n",
      " #   Column     Non-Null Count  Dtype  \n",
      "---  ------     --------------  -----  \n",
      " 0   bathrooms  3817 non-null   float64\n",
      " 1   bedrooms   3817 non-null   float64\n",
      " 2   beds       3817 non-null   float64\n",
      "dtypes: float64(3)\n",
      "memory usage: 119.3 KB\n"
     ]
    }
   ],
   "source": [
    "size_cols=['bathrooms','bedrooms','beds']\n",
    "listings_clean[size_cols].info()"
   ]
  },
  {
   "cell_type": "markdown",
   "id": "200d80dd-3bcb-4e31-a41b-8e3497b2bc5a",
   "metadata": {},
   "source": [
    "## 3.3 Clean Reviews"
   ]
  },
  {
   "cell_type": "markdown",
   "id": "793e6772-e348-4b5f-8588-3556b813a653",
   "metadata": {},
   "source": [
    "**Assessment**\n",
    "- some nulls in comments\n",
    "- There are 'automated postings' in the comments. They seem to relate to cancelled bookings by the host\n",
    "- automated reviews are in the minority\n",
    "- auto review is an option on the air bnb website\n",
    "\n",
    "No cleaning actions"
   ]
  },
  {
   "cell_type": "code",
   "execution_count": 48,
   "id": "e5de1b02-898c-4ddf-b209-bd4898077bf1",
   "metadata": {},
   "outputs": [],
   "source": [
    "reviews_clean=reviews_df.copy()"
   ]
  },
  {
   "cell_type": "markdown",
   "id": "376a5050-9b18-4b4f-907f-4318c4fbba7e",
   "metadata": {},
   "source": [
    "# Data Modelling & Evaluation"
   ]
  },
  {
   "cell_type": "markdown",
   "id": "d8bd8ff3-db84-454e-94f3-e09fe22130d5",
   "metadata": {},
   "source": [
    "Modelling and evaluation will be performed in resopnse to the following questions:\n",
    "    \n",
    "1. Does increased availability reflect in worse reviews?\n",
    "2. Does length of listing description have an affect on property ratings?\n",
    "3. Does listing price vary seasonally?\n",
    "4. How does the size of a property relate to price?\n",
    "5. Is price depenednt on location?  "
   ]
  },
  {
   "cell_type": "markdown",
   "id": "0af02bf9-7ca3-4932-836f-80e14f4ca910",
   "metadata": {},
   "source": [
    "# Q1 : Does ncreased availability reflect in worse reviews?"
   ]
  },
  {
   "cell_type": "code",
   "execution_count": 49,
   "id": "1bf6d377-3e80-46ae-b150-8fec8cc142f3",
   "metadata": {},
   "outputs": [],
   "source": [
    "#identify review columns\n",
    "score_cols=[x for x in listings_clean.columns if 'review_scores' in x]\n",
    "listings_scores=listings_clean[['id']+score_cols ]"
   ]
  },
  {
   "cell_type": "code",
   "execution_count": 50,
   "id": "6e30c912-8315-4b6f-ab26-dee051bcb939",
   "metadata": {},
   "outputs": [],
   "source": [
    "#merge scores with calendar df\n",
    "calendar_scores=calendar_clean.merge(listings_scores,how=\"inner\",left_on=\"listing_id\",right_on=\"id\").drop(columns=['id'])"
   ]
  },
  {
   "cell_type": "code",
   "execution_count": 51,
   "id": "dbc6bfdd-2ce3-4351-9bdc-bebf79f7a08b",
   "metadata": {},
   "outputs": [
    {
     "data": {
      "text/html": [
       "<div>\n",
       "<style scoped>\n",
       "    .dataframe tbody tr th:only-of-type {\n",
       "        vertical-align: middle;\n",
       "    }\n",
       "\n",
       "    .dataframe tbody tr th {\n",
       "        vertical-align: top;\n",
       "    }\n",
       "\n",
       "    .dataframe thead th {\n",
       "        text-align: right;\n",
       "    }\n",
       "</style>\n",
       "<table border=\"1\" class=\"dataframe\">\n",
       "  <thead>\n",
       "    <tr style=\"text-align: right;\">\n",
       "      <th></th>\n",
       "      <th>listing_id</th>\n",
       "      <th>date</th>\n",
       "      <th>available</th>\n",
       "      <th>price</th>\n",
       "      <th>review_scores_rating</th>\n",
       "      <th>review_scores_accuracy</th>\n",
       "      <th>review_scores_cleanliness</th>\n",
       "      <th>review_scores_checkin</th>\n",
       "      <th>review_scores_communication</th>\n",
       "      <th>review_scores_location</th>\n",
       "      <th>review_scores_value</th>\n",
       "    </tr>\n",
       "  </thead>\n",
       "  <tbody>\n",
       "    <tr>\n",
       "      <th>0</th>\n",
       "      <td>241032</td>\n",
       "      <td>2016-01-04</td>\n",
       "      <td>t</td>\n",
       "      <td>85.0</td>\n",
       "      <td>95.0</td>\n",
       "      <td>10.0</td>\n",
       "      <td>10.0</td>\n",
       "      <td>10.0</td>\n",
       "      <td>10.0</td>\n",
       "      <td>9.0</td>\n",
       "      <td>10.0</td>\n",
       "    </tr>\n",
       "    <tr>\n",
       "      <th>1</th>\n",
       "      <td>241032</td>\n",
       "      <td>2016-01-05</td>\n",
       "      <td>t</td>\n",
       "      <td>85.0</td>\n",
       "      <td>95.0</td>\n",
       "      <td>10.0</td>\n",
       "      <td>10.0</td>\n",
       "      <td>10.0</td>\n",
       "      <td>10.0</td>\n",
       "      <td>9.0</td>\n",
       "      <td>10.0</td>\n",
       "    </tr>\n",
       "    <tr>\n",
       "      <th>2</th>\n",
       "      <td>241032</td>\n",
       "      <td>2016-01-06</td>\n",
       "      <td>f</td>\n",
       "      <td>NaN</td>\n",
       "      <td>95.0</td>\n",
       "      <td>10.0</td>\n",
       "      <td>10.0</td>\n",
       "      <td>10.0</td>\n",
       "      <td>10.0</td>\n",
       "      <td>9.0</td>\n",
       "      <td>10.0</td>\n",
       "    </tr>\n",
       "    <tr>\n",
       "      <th>3</th>\n",
       "      <td>241032</td>\n",
       "      <td>2016-01-07</td>\n",
       "      <td>f</td>\n",
       "      <td>NaN</td>\n",
       "      <td>95.0</td>\n",
       "      <td>10.0</td>\n",
       "      <td>10.0</td>\n",
       "      <td>10.0</td>\n",
       "      <td>10.0</td>\n",
       "      <td>9.0</td>\n",
       "      <td>10.0</td>\n",
       "    </tr>\n",
       "    <tr>\n",
       "      <th>4</th>\n",
       "      <td>241032</td>\n",
       "      <td>2016-01-08</td>\n",
       "      <td>f</td>\n",
       "      <td>NaN</td>\n",
       "      <td>95.0</td>\n",
       "      <td>10.0</td>\n",
       "      <td>10.0</td>\n",
       "      <td>10.0</td>\n",
       "      <td>10.0</td>\n",
       "      <td>9.0</td>\n",
       "      <td>10.0</td>\n",
       "    </tr>\n",
       "    <tr>\n",
       "      <th>...</th>\n",
       "      <td>...</td>\n",
       "      <td>...</td>\n",
       "      <td>...</td>\n",
       "      <td>...</td>\n",
       "      <td>...</td>\n",
       "      <td>...</td>\n",
       "      <td>...</td>\n",
       "      <td>...</td>\n",
       "      <td>...</td>\n",
       "      <td>...</td>\n",
       "      <td>...</td>\n",
       "    </tr>\n",
       "    <tr>\n",
       "      <th>1393200</th>\n",
       "      <td>10208623</td>\n",
       "      <td>2016-12-29</td>\n",
       "      <td>f</td>\n",
       "      <td>NaN</td>\n",
       "      <td>NaN</td>\n",
       "      <td>NaN</td>\n",
       "      <td>NaN</td>\n",
       "      <td>NaN</td>\n",
       "      <td>NaN</td>\n",
       "      <td>NaN</td>\n",
       "      <td>NaN</td>\n",
       "    </tr>\n",
       "    <tr>\n",
       "      <th>1393201</th>\n",
       "      <td>10208623</td>\n",
       "      <td>2016-12-30</td>\n",
       "      <td>f</td>\n",
       "      <td>NaN</td>\n",
       "      <td>NaN</td>\n",
       "      <td>NaN</td>\n",
       "      <td>NaN</td>\n",
       "      <td>NaN</td>\n",
       "      <td>NaN</td>\n",
       "      <td>NaN</td>\n",
       "      <td>NaN</td>\n",
       "    </tr>\n",
       "    <tr>\n",
       "      <th>1393202</th>\n",
       "      <td>10208623</td>\n",
       "      <td>2016-12-31</td>\n",
       "      <td>f</td>\n",
       "      <td>NaN</td>\n",
       "      <td>NaN</td>\n",
       "      <td>NaN</td>\n",
       "      <td>NaN</td>\n",
       "      <td>NaN</td>\n",
       "      <td>NaN</td>\n",
       "      <td>NaN</td>\n",
       "      <td>NaN</td>\n",
       "    </tr>\n",
       "    <tr>\n",
       "      <th>1393203</th>\n",
       "      <td>10208623</td>\n",
       "      <td>2017-01-01</td>\n",
       "      <td>f</td>\n",
       "      <td>NaN</td>\n",
       "      <td>NaN</td>\n",
       "      <td>NaN</td>\n",
       "      <td>NaN</td>\n",
       "      <td>NaN</td>\n",
       "      <td>NaN</td>\n",
       "      <td>NaN</td>\n",
       "      <td>NaN</td>\n",
       "    </tr>\n",
       "    <tr>\n",
       "      <th>1393204</th>\n",
       "      <td>10208623</td>\n",
       "      <td>2017-01-02</td>\n",
       "      <td>f</td>\n",
       "      <td>NaN</td>\n",
       "      <td>NaN</td>\n",
       "      <td>NaN</td>\n",
       "      <td>NaN</td>\n",
       "      <td>NaN</td>\n",
       "      <td>NaN</td>\n",
       "      <td>NaN</td>\n",
       "      <td>NaN</td>\n",
       "    </tr>\n",
       "  </tbody>\n",
       "</table>\n",
       "<p>1393205 rows × 11 columns</p>\n",
       "</div>"
      ],
      "text/plain": [
       "         listing_id       date available  price  review_scores_rating  \\\n",
       "0            241032 2016-01-04         t   85.0                  95.0   \n",
       "1            241032 2016-01-05         t   85.0                  95.0   \n",
       "2            241032 2016-01-06         f    NaN                  95.0   \n",
       "3            241032 2016-01-07         f    NaN                  95.0   \n",
       "4            241032 2016-01-08         f    NaN                  95.0   \n",
       "...             ...        ...       ...    ...                   ...   \n",
       "1393200    10208623 2016-12-29         f    NaN                   NaN   \n",
       "1393201    10208623 2016-12-30         f    NaN                   NaN   \n",
       "1393202    10208623 2016-12-31         f    NaN                   NaN   \n",
       "1393203    10208623 2017-01-01         f    NaN                   NaN   \n",
       "1393204    10208623 2017-01-02         f    NaN                   NaN   \n",
       "\n",
       "         review_scores_accuracy  review_scores_cleanliness  \\\n",
       "0                          10.0                       10.0   \n",
       "1                          10.0                       10.0   \n",
       "2                          10.0                       10.0   \n",
       "3                          10.0                       10.0   \n",
       "4                          10.0                       10.0   \n",
       "...                         ...                        ...   \n",
       "1393200                     NaN                        NaN   \n",
       "1393201                     NaN                        NaN   \n",
       "1393202                     NaN                        NaN   \n",
       "1393203                     NaN                        NaN   \n",
       "1393204                     NaN                        NaN   \n",
       "\n",
       "         review_scores_checkin  review_scores_communication  \\\n",
       "0                         10.0                         10.0   \n",
       "1                         10.0                         10.0   \n",
       "2                         10.0                         10.0   \n",
       "3                         10.0                         10.0   \n",
       "4                         10.0                         10.0   \n",
       "...                        ...                          ...   \n",
       "1393200                    NaN                          NaN   \n",
       "1393201                    NaN                          NaN   \n",
       "1393202                    NaN                          NaN   \n",
       "1393203                    NaN                          NaN   \n",
       "1393204                    NaN                          NaN   \n",
       "\n",
       "         review_scores_location  review_scores_value  \n",
       "0                           9.0                 10.0  \n",
       "1                           9.0                 10.0  \n",
       "2                           9.0                 10.0  \n",
       "3                           9.0                 10.0  \n",
       "4                           9.0                 10.0  \n",
       "...                         ...                  ...  \n",
       "1393200                     NaN                  NaN  \n",
       "1393201                     NaN                  NaN  \n",
       "1393202                     NaN                  NaN  \n",
       "1393203                     NaN                  NaN  \n",
       "1393204                     NaN                  NaN  \n",
       "\n",
       "[1393205 rows x 11 columns]"
      ]
     },
     "execution_count": 51,
     "metadata": {},
     "output_type": "execute_result"
    }
   ],
   "source": [
    "calendar_scores"
   ]
  },
  {
   "cell_type": "markdown",
   "id": "b37a5df0-9b6f-4157-ac1d-b2beeb8f57e4",
   "metadata": {},
   "source": [
    "create summary table, with days available days off market, total days"
   ]
  },
  {
   "cell_type": "code",
   "execution_count": 52,
   "id": "c343e196-e67d-45d5-acf8-d5c9718952e7",
   "metadata": {},
   "outputs": [],
   "source": [
    "#credit : https://stackoverflow.com/questions/14529838/apply-multiple-functions-to-multiple-groupby-columns/53096340\n",
    "def agg_funcs(x):\n",
    "    \"\"\"\n",
    "    args: groupby object x\n",
    "    \n",
    "    Creates summary df, with aggregates for each grouping\n",
    "    \"\"\"\n",
    "    df = {}\n",
    "    df['days_online'] = x['listing_id'].count()\n",
    "    df['mean_price'] = x['price'].mean()\n",
    "    df['max_price_difference']=x['price'].max()-x['price'].min()\n",
    "    \n",
    "    df['days_not_available']=np.sum(x['available']=='f')\n",
    "    \n",
    "    df['days_available']=np.sum(x['available']=='t')\n",
    "    \n",
    "    df['mean_score'] = x['review_scores_rating'].mean()\n",
    "\n",
    "    return pd.Series(df, index=['days_online', 'mean_price','max_price_difference','days_not_available','days_available','mean_score'])"
   ]
  },
  {
   "cell_type": "code",
   "execution_count": 53,
   "id": "5427261b-8b10-42f7-92b2-e4c1ab7763ae",
   "metadata": {},
   "outputs": [],
   "source": [
    "calendar_scores_summary=calendar_scores.groupby('listing_id').apply(agg_funcs)"
   ]
  },
  {
   "cell_type": "code",
   "execution_count": 54,
   "id": "38506eab-d4de-45f9-9850-c273b9014417",
   "metadata": {},
   "outputs": [
    {
     "data": {
      "text/html": [
       "<div>\n",
       "<style scoped>\n",
       "    .dataframe tbody tr th:only-of-type {\n",
       "        vertical-align: middle;\n",
       "    }\n",
       "\n",
       "    .dataframe tbody tr th {\n",
       "        vertical-align: top;\n",
       "    }\n",
       "\n",
       "    .dataframe thead th {\n",
       "        text-align: right;\n",
       "    }\n",
       "</style>\n",
       "<table border=\"1\" class=\"dataframe\">\n",
       "  <thead>\n",
       "    <tr style=\"text-align: right;\">\n",
       "      <th></th>\n",
       "      <th>days_online</th>\n",
       "      <th>mean_price</th>\n",
       "      <th>max_price_difference</th>\n",
       "      <th>days_not_available</th>\n",
       "      <th>days_available</th>\n",
       "      <th>mean_score</th>\n",
       "    </tr>\n",
       "    <tr>\n",
       "      <th>listing_id</th>\n",
       "      <th></th>\n",
       "      <th></th>\n",
       "      <th></th>\n",
       "      <th></th>\n",
       "      <th></th>\n",
       "      <th></th>\n",
       "    </tr>\n",
       "  </thead>\n",
       "  <tbody>\n",
       "    <tr>\n",
       "      <th>3335</th>\n",
       "      <td>365.0</td>\n",
       "      <td>120.000000</td>\n",
       "      <td>0.0</td>\n",
       "      <td>56.0</td>\n",
       "      <td>309.0</td>\n",
       "      <td>NaN</td>\n",
       "    </tr>\n",
       "    <tr>\n",
       "      <th>4291</th>\n",
       "      <td>365.0</td>\n",
       "      <td>82.000000</td>\n",
       "      <td>0.0</td>\n",
       "      <td>0.0</td>\n",
       "      <td>365.0</td>\n",
       "      <td>92.0</td>\n",
       "    </tr>\n",
       "    <tr>\n",
       "      <th>5682</th>\n",
       "      <td>365.0</td>\n",
       "      <td>53.944984</td>\n",
       "      <td>18.0</td>\n",
       "      <td>56.0</td>\n",
       "      <td>309.0</td>\n",
       "      <td>96.0</td>\n",
       "    </tr>\n",
       "    <tr>\n",
       "      <th>6606</th>\n",
       "      <td>365.0</td>\n",
       "      <td>92.849315</td>\n",
       "      <td>10.0</td>\n",
       "      <td>0.0</td>\n",
       "      <td>365.0</td>\n",
       "      <td>93.0</td>\n",
       "    </tr>\n",
       "    <tr>\n",
       "      <th>7369</th>\n",
       "      <td>365.0</td>\n",
       "      <td>85.000000</td>\n",
       "      <td>0.0</td>\n",
       "      <td>312.0</td>\n",
       "      <td>53.0</td>\n",
       "      <td>94.0</td>\n",
       "    </tr>\n",
       "    <tr>\n",
       "      <th>...</th>\n",
       "      <td>...</td>\n",
       "      <td>...</td>\n",
       "      <td>...</td>\n",
       "      <td>...</td>\n",
       "      <td>...</td>\n",
       "      <td>...</td>\n",
       "    </tr>\n",
       "    <tr>\n",
       "      <th>10332096</th>\n",
       "      <td>365.0</td>\n",
       "      <td>40.000000</td>\n",
       "      <td>0.0</td>\n",
       "      <td>0.0</td>\n",
       "      <td>365.0</td>\n",
       "      <td>NaN</td>\n",
       "    </tr>\n",
       "    <tr>\n",
       "      <th>10334184</th>\n",
       "      <td>365.0</td>\n",
       "      <td>120.000000</td>\n",
       "      <td>0.0</td>\n",
       "      <td>4.0</td>\n",
       "      <td>361.0</td>\n",
       "      <td>NaN</td>\n",
       "    </tr>\n",
       "    <tr>\n",
       "      <th>10339144</th>\n",
       "      <td>365.0</td>\n",
       "      <td>NaN</td>\n",
       "      <td>NaN</td>\n",
       "      <td>365.0</td>\n",
       "      <td>0.0</td>\n",
       "      <td>NaN</td>\n",
       "    </tr>\n",
       "    <tr>\n",
       "      <th>10339145</th>\n",
       "      <td>365.0</td>\n",
       "      <td>237.904110</td>\n",
       "      <td>80.0</td>\n",
       "      <td>0.0</td>\n",
       "      <td>365.0</td>\n",
       "      <td>NaN</td>\n",
       "    </tr>\n",
       "    <tr>\n",
       "      <th>10340165</th>\n",
       "      <td>365.0</td>\n",
       "      <td>43.000000</td>\n",
       "      <td>0.0</td>\n",
       "      <td>7.0</td>\n",
       "      <td>358.0</td>\n",
       "      <td>NaN</td>\n",
       "    </tr>\n",
       "  </tbody>\n",
       "</table>\n",
       "<p>3817 rows × 6 columns</p>\n",
       "</div>"
      ],
      "text/plain": [
       "            days_online  mean_price  max_price_difference  days_not_available  \\\n",
       "listing_id                                                                      \n",
       "3335              365.0  120.000000                   0.0                56.0   \n",
       "4291              365.0   82.000000                   0.0                 0.0   \n",
       "5682              365.0   53.944984                  18.0                56.0   \n",
       "6606              365.0   92.849315                  10.0                 0.0   \n",
       "7369              365.0   85.000000                   0.0               312.0   \n",
       "...                 ...         ...                   ...                 ...   \n",
       "10332096          365.0   40.000000                   0.0                 0.0   \n",
       "10334184          365.0  120.000000                   0.0                 4.0   \n",
       "10339144          365.0         NaN                   NaN               365.0   \n",
       "10339145          365.0  237.904110                  80.0                 0.0   \n",
       "10340165          365.0   43.000000                   0.0                 7.0   \n",
       "\n",
       "            days_available  mean_score  \n",
       "listing_id                              \n",
       "3335                 309.0         NaN  \n",
       "4291                 365.0        92.0  \n",
       "5682                 309.0        96.0  \n",
       "6606                 365.0        93.0  \n",
       "7369                  53.0        94.0  \n",
       "...                    ...         ...  \n",
       "10332096             365.0         NaN  \n",
       "10334184             361.0         NaN  \n",
       "10339144               0.0         NaN  \n",
       "10339145             365.0         NaN  \n",
       "10340165             358.0         NaN  \n",
       "\n",
       "[3817 rows x 6 columns]"
      ]
     },
     "execution_count": 54,
     "metadata": {},
     "output_type": "execute_result"
    }
   ],
   "source": [
    "calendar_scores_summary"
   ]
  },
  {
   "cell_type": "code",
   "execution_count": 55,
   "id": "bac2b544-6137-415e-90ae-c9036f2100d9",
   "metadata": {},
   "outputs": [],
   "source": [
    "import seaborn as sns"
   ]
  },
  {
   "cell_type": "code",
   "execution_count": 56,
   "id": "c0d9cdcc-5621-415e-bd68-b84a182d8378",
   "metadata": {},
   "outputs": [
    {
     "data": {
      "text/html": [
       "<div>\n",
       "<style scoped>\n",
       "    .dataframe tbody tr th:only-of-type {\n",
       "        vertical-align: middle;\n",
       "    }\n",
       "\n",
       "    .dataframe tbody tr th {\n",
       "        vertical-align: top;\n",
       "    }\n",
       "\n",
       "    .dataframe thead th {\n",
       "        text-align: right;\n",
       "    }\n",
       "</style>\n",
       "<table border=\"1\" class=\"dataframe\">\n",
       "  <thead>\n",
       "    <tr style=\"text-align: right;\">\n",
       "      <th></th>\n",
       "      <th>days_online</th>\n",
       "      <th>mean_price</th>\n",
       "      <th>max_price_difference</th>\n",
       "      <th>days_not_available</th>\n",
       "      <th>days_available</th>\n",
       "      <th>mean_score</th>\n",
       "    </tr>\n",
       "  </thead>\n",
       "  <tbody>\n",
       "    <tr>\n",
       "      <th>days_online</th>\n",
       "      <td>NaN</td>\n",
       "      <td>NaN</td>\n",
       "      <td>NaN</td>\n",
       "      <td>NaN</td>\n",
       "      <td>NaN</td>\n",
       "      <td>NaN</td>\n",
       "    </tr>\n",
       "    <tr>\n",
       "      <th>mean_price</th>\n",
       "      <td>NaN</td>\n",
       "      <td>1.000000</td>\n",
       "      <td>0.496409</td>\n",
       "      <td>-0.045690</td>\n",
       "      <td>0.045690</td>\n",
       "      <td>0.064875</td>\n",
       "    </tr>\n",
       "    <tr>\n",
       "      <th>max_price_difference</th>\n",
       "      <td>NaN</td>\n",
       "      <td>0.496409</td>\n",
       "      <td>1.000000</td>\n",
       "      <td>-0.110464</td>\n",
       "      <td>0.110464</td>\n",
       "      <td>0.033685</td>\n",
       "    </tr>\n",
       "    <tr>\n",
       "      <th>days_not_available</th>\n",
       "      <td>NaN</td>\n",
       "      <td>-0.045690</td>\n",
       "      <td>-0.110464</td>\n",
       "      <td>1.000000</td>\n",
       "      <td>-1.000000</td>\n",
       "      <td>0.038600</td>\n",
       "    </tr>\n",
       "    <tr>\n",
       "      <th>days_available</th>\n",
       "      <td>NaN</td>\n",
       "      <td>0.045690</td>\n",
       "      <td>0.110464</td>\n",
       "      <td>-1.000000</td>\n",
       "      <td>1.000000</td>\n",
       "      <td>-0.038600</td>\n",
       "    </tr>\n",
       "    <tr>\n",
       "      <th>mean_score</th>\n",
       "      <td>NaN</td>\n",
       "      <td>0.064875</td>\n",
       "      <td>0.033685</td>\n",
       "      <td>0.038600</td>\n",
       "      <td>-0.038600</td>\n",
       "      <td>1.000000</td>\n",
       "    </tr>\n",
       "  </tbody>\n",
       "</table>\n",
       "</div>"
      ],
      "text/plain": [
       "                      days_online  mean_price  max_price_difference  \\\n",
       "days_online                   NaN         NaN                   NaN   \n",
       "mean_price                    NaN    1.000000              0.496409   \n",
       "max_price_difference          NaN    0.496409              1.000000   \n",
       "days_not_available            NaN   -0.045690             -0.110464   \n",
       "days_available                NaN    0.045690              0.110464   \n",
       "mean_score                    NaN    0.064875              0.033685   \n",
       "\n",
       "                      days_not_available  days_available  mean_score  \n",
       "days_online                          NaN             NaN         NaN  \n",
       "mean_price                     -0.045690        0.045690    0.064875  \n",
       "max_price_difference           -0.110464        0.110464    0.033685  \n",
       "days_not_available              1.000000       -1.000000    0.038600  \n",
       "days_available                 -1.000000        1.000000   -0.038600  \n",
       "mean_score                      0.038600       -0.038600    1.000000  "
      ]
     },
     "execution_count": 56,
     "metadata": {},
     "output_type": "execute_result"
    }
   ],
   "source": [
    "calendar_scores_summary.corr()"
   ]
  },
  {
   "cell_type": "code",
   "execution_count": 57,
   "id": "30688a6d-b278-4260-9f09-5ea111956a2c",
   "metadata": {},
   "outputs": [
    {
     "data": {
      "text/plain": [
       "<AxesSubplot:>"
      ]
     },
     "execution_count": 57,
     "metadata": {},
     "output_type": "execute_result"
    },
    {
     "data": {
      "image/png": "[encoded data removed]",
      "text/plain": [
       "<Figure size 432x288 with 2 Axes>"
      ]
     },
     "metadata": {
      "needs_background": "light"
     },
     "output_type": "display_data"
    }
   ],
   "source": [
    "# view correlation betwwen availability and score\n",
    "sns.heatmap(calendar_scores_summary.corr())"
   ]
  },
  {
   "cell_type": "markdown",
   "id": "4618f72d-3c46-4566-83b2-eee5af976c60",
   "metadata": {},
   "source": [
    "**Conclusion**\n",
    "\n",
    "- There is no correlation between days_available and mean_score. Meaning, properties are more often booked do not tend to recieve better reviews"
   ]
  },
  {
   "cell_type": "markdown",
   "id": "e2b2bcb6-13ef-40e0-91ce-3e060c40dd13",
   "metadata": {},
   "source": [
    "## Q2 What is the best length of description?\n",
    "\n",
    "-The assumption is that a more detailed description is preferrable"
   ]
  },
  {
   "cell_type": "code",
   "execution_count": 58,
   "id": "7996d343-1fcd-418e-8d4c-3865bedef9c6",
   "metadata": {},
   "outputs": [
    {
     "data": {
      "text/plain": [
       "1000"
      ]
     },
     "execution_count": 58,
     "metadata": {},
     "output_type": "execute_result"
    }
   ],
   "source": [
    "#what is the max number of characters?\n",
    "listings_clean['description'].str.len().max()"
   ]
  },
  {
   "cell_type": "code",
   "execution_count": 59,
   "id": "277f531c-ff74-4b8e-8b4e-ea01adca3ff0",
   "metadata": {},
   "outputs": [
    {
     "data": {
      "text/plain": [
       "False"
      ]
     },
     "execution_count": 59,
     "metadata": {},
     "output_type": "execute_result"
    }
   ],
   "source": [
    "#any nulls?\n",
    "listings_clean['description'].isna().any()"
   ]
  },
  {
   "cell_type": "code",
   "execution_count": 60,
   "id": "795fc7f3-8cf1-451d-af49-aeb5d4f688ee",
   "metadata": {},
   "outputs": [
    {
     "data": {
      "text/plain": [
       "<AxesSubplot:xlabel='description', ylabel='review_scores_rating'>"
      ]
     },
     "execution_count": 60,
     "metadata": {},
     "output_type": "execute_result"
    },
    {
     "data": {
      "image/png": "[encoded data removed]",
      "text/plain": [
       "<Figure size 432x288 with 1 Axes>"
      ]
     },
     "metadata": {
      "needs_background": "light"
     },
     "output_type": "display_data"
    }
   ],
   "source": [
    "#plot scatterplot to view relation\n",
    "sns.scatterplot(x=listings_df['description'].str.len(),y=listings_df['review_scores_rating'])"
   ]
  },
  {
   "cell_type": "markdown",
   "id": "4d44fb81-2d55-4c7a-a554-3fe0f1f3bbc3",
   "metadata": {},
   "source": [
    "**Conclusion**\n",
    "\n",
    "- no clear correlation\n",
    "- review_scores_rating has clear bunching at 80 & 100\n",
    "- description has bunching at 1000 which makes it difficult to see any correlation beyond this point\n"
   ]
  },
  {
   "cell_type": "markdown",
   "id": "5fb1fb4d-6a33-4a1b-9fcb-497d697c9e89",
   "metadata": {},
   "source": [
    "# Q3 Does listing price vary seasonaly?"
   ]
  },
  {
   "cell_type": "code",
   "execution_count": 61,
   "id": "41c107fa-3f02-4444-b63c-5f360e063d26",
   "metadata": {},
   "outputs": [],
   "source": [
    "#group mean price per month\n",
    "grouped_prices=calendar_clean.groupby(pd.Grouper(key='date',freq='1M'))['price'].mean()#apply(lambda x:x['price'].sum()/x['price'].count())\n",
    "grouped_prices.index=grouped_prices.index.strftime('%B')"
   ]
  },
  {
   "cell_type": "code",
   "execution_count": 62,
   "id": "db3e9f14-9441-4b21-940c-d0b7e3100d54",
   "metadata": {},
   "outputs": [
    {
     "data": {
      "text/plain": [
       "date\n",
       "January      121.568409\n",
       "February     124.293927\n",
       "March        128.644488\n",
       "April        135.097005\n",
       "May          139.538183\n",
       "June         147.473137\n",
       "July         152.094150\n",
       "August       150.656594\n",
       "September    143.255949\n",
       "October      137.031939\n",
       "November     135.688738\n",
       "December     137.251835\n",
       "January      136.882590\n",
       "Name: price, dtype: float64"
      ]
     },
     "execution_count": 62,
     "metadata": {},
     "output_type": "execute_result"
    }
   ],
   "source": [
    "grouped_prices"
   ]
  },
  {
   "cell_type": "code",
   "execution_count": 63,
   "id": "b296473b-607e-4d23-b7d0-34f09f27c9bc",
   "metadata": {},
   "outputs": [
    {
     "data": {
      "text/plain": [
       "([0, 1, 2, 3, 4, 5, 6, 7, 8, 9, 10, 11],\n",
       " [Text(0, 0, ''),\n",
       "  Text(0, 0, ''),\n",
       "  Text(0, 0, ''),\n",
       "  Text(0, 0, ''),\n",
       "  Text(0, 0, ''),\n",
       "  Text(0, 0, ''),\n",
       "  Text(0, 0, ''),\n",
       "  Text(0, 0, ''),\n",
       "  Text(0, 0, ''),\n",
       "  Text(0, 0, ''),\n",
       "  Text(0, 0, ''),\n",
       "  Text(0, 0, '')])"
      ]
     },
     "execution_count": 63,
     "metadata": {},
     "output_type": "execute_result"
    },
    {
     "data": {
      "image/png": "[encoded data removed]",
      "text/plain": [
       "<Figure size 432x288 with 1 Axes>"
      ]
     },
     "metadata": {
      "needs_background": "light"
     },
     "output_type": "display_data"
    }
   ],
   "source": [
    "sns.lineplot(x=grouped_prices.index,y=grouped_prices)\n",
    "plt.title('Mean Listing Price ($) Per Month')\n",
    "plt.ylabel(\"Mean Listing Price ($)\")\n",
    "plt.xticks(rotation=90)"
   ]
  },
  {
   "cell_type": "markdown",
   "id": "5af63ee3-3469-44fd-b895-091c9759d630",
   "metadata": {},
   "source": [
    "**Conclusion**\n",
    "\n",
    "- Mean Price peaks in summer months"
   ]
  },
  {
   "cell_type": "markdown",
   "id": "0d4d6502-4026-4329-af80-158378385411",
   "metadata": {},
   "source": [
    "# Q4 How does the size of a property relate to price?\n",
    "\n"
   ]
  },
  {
   "cell_type": "code",
   "execution_count": 64,
   "id": "7015d427-c435-4db2-af78-9b07517ed7e2",
   "metadata": {},
   "outputs": [],
   "source": [
    "#view correlation with all float columns\n",
    "float_cols=listings_clean.select_dtypes(include=['float64'])"
   ]
  },
  {
   "cell_type": "code",
   "execution_count": 65,
   "id": "4bb4cccd-f284-4366-aacf-d85d5e9e52dd",
   "metadata": {},
   "outputs": [
    {
     "data": {
      "text/plain": [
       "<AxesSubplot:>"
      ]
     },
     "execution_count": 65,
     "metadata": {},
     "output_type": "execute_result"
    },
    {
     "data": {
      "image/png": "[encoded data removed]",
      "text/plain": [
       "<Figure size 432x288 with 2 Axes>"
      ]
     },
     "metadata": {
      "needs_background": "light"
     },
     "output_type": "display_data"
    }
   ],
   "source": [
    "sns.heatmap(float_cols.corr())"
   ]
  },
  {
   "cell_type": "markdown",
   "id": "be772e0d-394f-44db-96e4-361d622e9603",
   "metadata": {},
   "source": [
    "- Strong correlation between score featrues\n",
    "- Strong correlations betwwen columns relating to size of property and price"
   ]
  },
  {
   "cell_type": "code",
   "execution_count": 66,
   "id": "479c712b-4547-4fd6-9f64-771379e6855e",
   "metadata": {},
   "outputs": [
    {
     "data": {
      "text/plain": [
       "<AxesSubplot:>"
      ]
     },
     "execution_count": 66,
     "metadata": {},
     "output_type": "execute_result"
    },
    {
     "data": {
      "image/png": "[encoded data removed]",
      "text/plain": [
       "<Figure size 432x288 with 1 Axes>"
      ]
     },
     "metadata": {
      "needs_background": "light"
     },
     "output_type": "display_data"
    }
   ],
   "source": [
    "#feature corrleated to price\n",
    "float_cols.corr().loc['price'].plot(kind='bar')"
   ]
  },
  {
   "cell_type": "markdown",
   "id": "45702529-9761-4502-b909-b85708c852bb",
   "metadata": {},
   "source": [
    "**Conclusion**\n",
    "\n",
    "highly corrleated features\n",
    "\n",
    "- bathrooms\n",
    "- bedrooms\n",
    "- beds\n",
    "\n",
    "Since this is a postive correlation, the more rooms/ beds a property had, the higher the price. This would suggest these features could be used in a model to predict propert price"
   ]
  },
  {
   "cell_type": "markdown",
   "id": "b5d2d48c-aa7e-405e-9e36-52c4aa544cb5",
   "metadata": {},
   "source": [
    "## Q5 Is price depenednt on location?  "
   ]
  },
  {
   "cell_type": "markdown",
   "id": "4dbb1bf4-4817-4a9b-85bb-d58dcf8dc0a7",
   "metadata": {},
   "source": [
    "From the previous corr plot, it can be seen that longitude and latitude do not corrlate to price on their own. However, does the geographic location have a bearing on price?"
   ]
  },
  {
   "cell_type": "code",
   "execution_count": 67,
   "id": "d8bd89c3-59c9-407a-8c38-facea1e0fd7d",
   "metadata": {},
   "outputs": [
    {
     "data": {
      "text/plain": [
       "<AxesSubplot:xlabel='longitude', ylabel='latitude'>"
      ]
     },
     "execution_count": 67,
     "metadata": {},
     "output_type": "execute_result"
    },
    {
     "data": {
      "image/png": "[encoded data removed]",
      "text/plain": [
       "<Figure size 432x288 with 2 Axes>"
      ]
     },
     "metadata": {
      "needs_background": "light"
     },
     "output_type": "display_data"
    }
   ],
   "source": [
    "#plot geo data\n",
    "listings_clean.plot(kind='scatter',x='longitude',y='latitude',alpha=0.1,c=\"price\",cmap=plt.get_cmap(\"jet\"),colorbar=True)"
   ]
  },
  {
   "cell_type": "markdown",
   "id": "d383e303-78ac-40ba-9842-a85c9156e9ca",
   "metadata": {},
   "source": [
    "- There are sum small cluster of higher pricing, howvevr this relation is not clear\n",
    "\n",
    "Can we see difference per neighbour hood?"
   ]
  },
  {
   "cell_type": "code",
   "execution_count": 68,
   "id": "bf44332f-a685-4349-9c22-b1af3dcc4039",
   "metadata": {},
   "outputs": [
    {
     "name": "stdout",
     "output_type": "stream",
     "text": [
      "<class 'pandas.core.frame.DataFrame'>\n",
      "Int64Index: 3817 entries, 0 to 3817\n",
      "Data columns (total 3 columns):\n",
      " #   Column                        Non-Null Count  Dtype \n",
      "---  ------                        --------------  ----- \n",
      " 0   neighbourhood                 3401 non-null   object\n",
      " 1   neighbourhood_cleansed        3817 non-null   object\n",
      " 2   neighbourhood_group_cleansed  3817 non-null   object\n",
      "dtypes: object(3)\n",
      "memory usage: 119.3+ KB\n"
     ]
    }
   ],
   "source": [
    "#what neighboorhood columns are available?\n",
    "listings_clean[['neighbourhood', 'neighbourhood_cleansed',\n",
    "       'neighbourhood_group_cleansed']].info()"
   ]
  },
  {
   "cell_type": "code",
   "execution_count": 69,
   "id": "a6b60b55-b966-4085-974d-ff4102e4e99d",
   "metadata": {},
   "outputs": [
    {
     "data": {
      "text/plain": [
       "Broadway             397\n",
       "Belltown             234\n",
       "Wallingford          167\n",
       "Fremont              158\n",
       "Minor                135\n",
       "                    ... \n",
       "Arbor Heights          5\n",
       "South Beacon Hill      4\n",
       "Pinehurst              4\n",
       "South Park             3\n",
       "Roxhill                2\n",
       "Name: neighbourhood_cleansed, Length: 87, dtype: int64"
      ]
     },
     "execution_count": 69,
     "metadata": {},
     "output_type": "execute_result"
    }
   ],
   "source": [
    "listings_clean['neighbourhood_cleansed'].value_counts()"
   ]
  },
  {
   "cell_type": "code",
   "execution_count": 70,
   "id": "bcc4b2e4-009c-4544-8b05-3d30bb364a59",
   "metadata": {},
   "outputs": [
    {
     "data": {
      "text/plain": [
       "Other neighborhoods    793\n",
       "Capitol Hill           567\n",
       "Downtown               530\n",
       "Central Area           369\n",
       "Queen Anne             295\n",
       "Ballard                230\n",
       "West Seattle           203\n",
       "Rainier Valley         159\n",
       "University District    122\n",
       "Beacon Hill            118\n",
       "Cascade                 89\n",
       "Northgate               80\n",
       "Delridge                79\n",
       "Lake City               67\n",
       "Magnolia                61\n",
       "Seward Park             44\n",
       "Interbay                11\n",
       "Name: neighbourhood_group_cleansed, dtype: int64"
      ]
     },
     "execution_count": 70,
     "metadata": {},
     "output_type": "execute_result"
    }
   ],
   "source": [
    "listings_clean['neighbourhood_group_cleansed'].value_counts()"
   ]
  },
  {
   "cell_type": "markdown",
   "id": "b8f9867c-f748-442e-b6f7-598296a79e7c",
   "metadata": {},
   "source": [
    "- will use neighbourhood_group_cleansed, due to the more broad categories making for easier visulisation"
   ]
  },
  {
   "cell_type": "code",
   "execution_count": 71,
   "id": "55e72a06-d752-4e7e-b34b-5a14c1c2edba",
   "metadata": {},
   "outputs": [],
   "source": [
    "mean_price_order=listings_clean.groupby('neighbourhood_group_cleansed').median().sort_values('price').index"
   ]
  },
  {
   "cell_type": "code",
   "execution_count": 72,
   "id": "9241cced-2e90-4a27-a5d4-f1ce2925b955",
   "metadata": {},
   "outputs": [
    {
     "data": {
      "text/plain": [
       "(array([ 0,  1,  2,  3,  4,  5,  6,  7,  8,  9, 10, 11, 12, 13, 14, 15, 16]),\n",
       " [Text(0, 0, 'Lake City'),\n",
       "  Text(1, 0, 'Delridge'),\n",
       "  Text(2, 0, 'Beacon Hill'),\n",
       "  Text(3, 0, 'Northgate'),\n",
       "  Text(4, 0, 'Rainier Valley'),\n",
       "  Text(5, 0, 'University District'),\n",
       "  Text(6, 0, 'Interbay'),\n",
       "  Text(7, 0, 'Seward Park'),\n",
       "  Text(8, 0, 'Ballard'),\n",
       "  Text(9, 0, 'Other neighborhoods'),\n",
       "  Text(10, 0, 'Central Area'),\n",
       "  Text(11, 0, 'Capitol Hill'),\n",
       "  Text(12, 0, 'West Seattle'),\n",
       "  Text(13, 0, 'Cascade'),\n",
       "  Text(14, 0, 'Queen Anne'),\n",
       "  Text(15, 0, 'Magnolia'),\n",
       "  Text(16, 0, 'Downtown')])"
      ]
     },
     "execution_count": 72,
     "metadata": {},
     "output_type": "execute_result"
    },
    {
     "data": {
      "image/png": "[encoded data removed]",
      "text/plain": [
       "<Figure size 432x288 with 1 Axes>"
      ]
     },
     "metadata": {
      "needs_background": "light"
     },
     "output_type": "display_data"
    }
   ],
   "source": [
    "from numpy import median\n",
    "\n",
    "sns.barplot(x='neighbourhood_group_cleansed',y='price',data=listings_clean, estimator=median,order=mean_price_order)\n",
    "plt.title(\"blah\")\n",
    "plt.xticks(rotation=90)"
   ]
  },
  {
   "cell_type": "markdown",
   "id": "bb47ee7a-5e51-4bd1-b965-196e89e0caa9",
   "metadata": {},
   "source": [
    "**Conclusion**\n",
    "\n",
    "- clear distinction in average price per neighbourhood\n",
    "- Interbay and Magnoilia have large IQR, so may not fit in with the overall trend\n",
    "\n",
    "neighbourhood_group_cleansed could be used as a feature in predicting prices\n"
   ]
  },
  {
   "cell_type": "markdown",
   "id": "1f4c615c-c247-40d0-be4b-bb2530b0c4d6",
   "metadata": {},
   "source": [
    "# Q6 Can price of property predicted?\n",
    "\n",
    "- In answering the business questions above, certain features were identified that could help predict a suitable price for a property"
   ]
  },
  {
   "cell_type": "code",
   "execution_count": 73,
   "id": "2d152ba5-82f0-4e5f-a0e4-1ec5886205d7",
   "metadata": {},
   "outputs": [],
   "source": [
    "#neighbourhood_group_cleanse will have to be split into dummie columns\n",
    "neighbourhood_dummies=pd.get_dummies(listings_clean['neighbourhood_group_cleansed'], prefix='neighbourhood_group', prefix_sep='_', drop_first=True)\n",
    "neighbourhood_dummies_cols=list(neighbourhood_dummies.columns)"
   ]
  },
  {
   "cell_type": "code",
   "execution_count": 74,
   "id": "a52b7709-c672-4e56-aa90-0f0c8f767d58",
   "metadata": {},
   "outputs": [],
   "source": [
    "#add dummies to df\n",
    "listings_clean= pd.concat([listings_clean, neighbourhood_dummies], axis=1)\n",
    "\n",
    "#define features for training\n",
    "features=size_cols+neighbourhood_dummies_cols\n",
    "\n",
    "#define label\n",
    "label='price'\n",
    "\n",
    "#select train/test population\n",
    "X=listings_clean.copy()[features]\n",
    "y=listings_clean.copy()[label]"
   ]
  },
  {
   "cell_type": "code",
   "execution_count": 75,
   "id": "c63f9fd3-5b1e-40d7-81b7-9c5b296aa63f",
   "metadata": {},
   "outputs": [],
   "source": [
    "from sklearn.ensemble import RandomForestRegressor\n",
    "from sklearn.model_selection import train_test_split"
   ]
  },
  {
   "cell_type": "code",
   "execution_count": 76,
   "id": "c6479ea6-26eb-49b4-8240-a05760cd6c2a",
   "metadata": {},
   "outputs": [],
   "source": [
    "#split into train/test\n",
    "X_train, X_test, y_train, y_test = train_test_split(X, y, test_size=0.3, random_state=42)"
   ]
  },
  {
   "cell_type": "code",
   "execution_count": 77,
   "id": "b77f91f2-6779-447f-bdf0-60586521c05c",
   "metadata": {},
   "outputs": [],
   "source": [
    "#train model\n",
    "clf=RandomForestRegressor()\n",
    "clf.fit(X_train,y_train)\n",
    "\n",
    "#predict\n",
    "y_pred=clf.predict(X_test)"
   ]
  },
  {
   "cell_type": "code",
   "execution_count": 78,
   "id": "fdc4cf70-c611-4efa-82f3-92fe80326cad",
   "metadata": {},
   "outputs": [],
   "source": [
    "from sklearn.metrics import mean_squared_error"
   ]
  },
  {
   "cell_type": "code",
   "execution_count": 79,
   "id": "43265ab4-8ecf-4e4e-bcc0-ea2263538543",
   "metadata": {},
   "outputs": [
    {
     "data": {
      "text/plain": [
       "64.42686305807024"
      ]
     },
     "execution_count": 79,
     "metadata": {},
     "output_type": "execute_result"
    }
   ],
   "source": [
    "#find rmse\n",
    "mse=mean_squared_error(y_test,y_pred)\n",
    "\n",
    "rmse=np.sqrt(mse)\n",
    "rmse"
   ]
  },
  {
   "cell_type": "code",
   "execution_count": 80,
   "id": "0dfb2077-0904-423d-8195-bbbd89e37501",
   "metadata": {},
   "outputs": [],
   "source": [
    "from sklearn.model_selection import cross_val_score"
   ]
  },
  {
   "cell_type": "code",
   "execution_count": 81,
   "id": "55484fb8-31ea-42ea-99d6-d1c4d02bfe3f",
   "metadata": {},
   "outputs": [],
   "source": [
    "#perform cross validation on training set\n",
    "scores=cross_val_score(clf,X_train,y_train,scoring=\"neg_mean_squared_error\",cv=10)\n",
    "\n",
    "sqrt_scores=np.sqrt(-scores)"
   ]
  },
  {
   "cell_type": "code",
   "execution_count": 82,
   "id": "7de02ccb-ff03-46d4-9119-fdbc51cdf2c0",
   "metadata": {},
   "outputs": [
    {
     "data": {
      "text/plain": [
       "128.43804537521814"
      ]
     },
     "execution_count": 82,
     "metadata": {},
     "output_type": "execute_result"
    }
   ],
   "source": [
    "y_test.mean()"
   ]
  },
  {
   "cell_type": "code",
   "execution_count": 83,
   "id": "0670acbc-bb93-4b50-9126-e2fd4046da9f",
   "metadata": {},
   "outputs": [
    {
     "data": {
      "text/plain": [
       "64.2393327839451"
      ]
     },
     "execution_count": 83,
     "metadata": {},
     "output_type": "execute_result"
    }
   ],
   "source": [
    "#mean rmse from cv\n",
    "sqrt_scores.mean()"
   ]
  },
  {
   "cell_type": "code",
   "execution_count": 84,
   "id": "bef75493-e689-47cf-b6f3-9c757bf375ee",
   "metadata": {},
   "outputs": [
    {
     "data": {
      "text/plain": [
       "11.061823525748272"
      ]
     },
     "execution_count": 84,
     "metadata": {},
     "output_type": "execute_result"
    }
   ],
   "source": [
    "# std of rmse\n",
    "sqrt_scores.std()"
   ]
  },
  {
   "cell_type": "code",
   "execution_count": 85,
   "id": "6a7e50d3-7768-4c71-a58c-bbe938a7ad26",
   "metadata": {},
   "outputs": [
    {
     "name": "stdout",
     "output_type": "stream",
     "text": [
      "Performance of rmse: 64.2393327839451 +/- 11.061823525748272\n"
     ]
    }
   ],
   "source": [
    "#So score is approx\n",
    "print(f\"Performance of rmse: {sqrt_scores.mean()} +/- {sqrt_scores.std()}\")"
   ]
  },
  {
   "cell_type": "markdown",
   "id": "9d70b374-14f6-438f-84a3-eff79812d3f7",
   "metadata": {},
   "source": [
    "- this is equivelent to score from test, suggesting overfitting"
   ]
  },
  {
   "cell_type": "markdown",
   "id": "80d2ece1-bd79-463f-bc36-ca3d201225d7",
   "metadata": {},
   "source": [
    "**Conclusion**\n",
    "\n",
    "- model indicates possibility of making price predictions\n",
    "- However, with a mean price of 128, and rmse of 64 is a large error\n",
    "- More work will need to be performed on feature selection, model selection and tuning "
   ]
  }
 ],
 "metadata": {
  "kernelspec": {
   "display_name": "Python 3",
   "language": "python",
   "name": "python3"
  },
  "language_info": {
   "codemirror_mode": {
    "name": "ipython",
    "version": 3
   },
   "file_extension": ".py",
   "mimetype": "text/x-python",
   "name": "python",
   "nbconvert_exporter": "python",
   "pygments_lexer": "ipython3",
   "version": "3.8.8"
  }
 },
 "nbformat": 4,
 "nbformat_minor": 5
}
